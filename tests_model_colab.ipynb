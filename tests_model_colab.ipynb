{
  "nbformat": 4,
  "nbformat_minor": 0,
  "metadata": {
    "colab": {
      "name": "tests_model_colab.ipynb",
      "provenance": [],
      "collapsed_sections": []
    },
    "kernelspec": {
      "name": "python3",
      "display_name": "Python 3"
    },
    "accelerator": "GPU"
  },
  "cells": [
    {
      "cell_type": "code",
      "metadata": {
        "id": "Dzfm6ny7rPNN",
        "colab_type": "code",
        "colab": {
          "base_uri": "https://localhost:8080/",
          "height": 34
        },
        "outputId": "a68646c4-3e18-4379-94e2-cb622ee84ae6"
      },
      "source": [
        "from google.colab import drive\n",
        "drive.mount('/content/gdrive', force_remount=True)"
      ],
      "execution_count": null,
      "outputs": [
        {
          "output_type": "stream",
          "text": [
            "Mounted at /content/gdrive\n"
          ],
          "name": "stdout"
        }
      ]
    },
    {
      "cell_type": "code",
      "metadata": {
        "id": "i04JvZhcsGGC",
        "colab_type": "code",
        "colab": {
          "base_uri": "https://localhost:8080/",
          "height": 260
        },
        "outputId": "affc6151-6b51-4af6-f50c-a069167f5987"
      },
      "source": [
        "!ls gdrive/My\\ Drive/SoHPC/Dnn_project/models/*\n",
        "!pip install tensorflow-probability==0.10.1"
      ],
      "execution_count": null,
      "outputs": [
        {
          "output_type": "stream",
          "text": [
            "'gdrive/My Drive/SoHPC/Dnn_project/models/trained50.h5'\n",
            "'gdrive/My Drive/SoHPC/Dnn_project/models/untrained50.h5'\n",
            "'gdrive/My Drive/SoHPC/Dnn_project/models/untrained.h5'\n",
            "\n",
            "'gdrive/My Drive/SoHPC/Dnn_project/models/logs':\n",
            "20200728-090845  20200728-094426  20200728-102417  20200728-194743\n",
            "20200728-093328  20200728-095150  20200728-114122  20200728-195237\n",
            "20200728-094146  20200728-095813  20200728-114715  20200728-195507\n",
            "Requirement already satisfied: tensorflow-probability==0.10.1 in /usr/local/lib/python3.6/dist-packages (0.10.1)\n",
            "Requirement already satisfied: numpy>=1.13.3 in /usr/local/lib/python3.6/dist-packages (from tensorflow-probability==0.10.1) (1.18.5)\n",
            "Requirement already satisfied: six>=1.10.0 in /usr/local/lib/python3.6/dist-packages (from tensorflow-probability==0.10.1) (1.15.0)\n",
            "Requirement already satisfied: gast>=0.3.2 in /usr/local/lib/python3.6/dist-packages (from tensorflow-probability==0.10.1) (0.3.3)\n",
            "Requirement already satisfied: cloudpickle==1.3 in /usr/local/lib/python3.6/dist-packages (from tensorflow-probability==0.10.1) (1.3.0)\n",
            "Requirement already satisfied: decorator in /usr/local/lib/python3.6/dist-packages (from tensorflow-probability==0.10.1) (4.4.2)\n"
          ],
          "name": "stdout"
        }
      ]
    },
    {
      "cell_type": "code",
      "metadata": {
        "id": "dYRkRM0ew7tx",
        "colab_type": "code",
        "colab": {
          "base_uri": "https://localhost:8080/",
          "height": 34
        },
        "outputId": "b0dca20d-6202-4c29-f404-9189191078c7"
      },
      "source": [
        "# Run only for training!\n",
        "import glob\n",
        "import math\n",
        "import datetime\n",
        "import numpy as np\n",
        "import tensorflow as tf\n",
        "import tensorflow_probability as tfp\n",
        "import os\n",
        "from keras import backend as K\n",
        "#from classification_models.tfkeras.models import Classifiers\n",
        "tfd = tfp.distributions\n",
        "tfpl = tfp.layers\n",
        "tfk = tf.keras\n",
        "tfkl = tf.keras.layers\n",
        "\n",
        "# Change parameters here...\n",
        "data_dir = 'gdrive/My Drive/SoHPC/Dnn_project/data/' # Change\n",
        "log_dir = 'gdrive/My Drive/SoHPC/Dnn_project/models/logs/'\n",
        "sizex = 500\n",
        "sizey = 500\n",
        "sizez = 3\n",
        "num_datasets = 10\n",
        "batch_size = 15\n",
        "nb_epochs = 2\n",
        "validation_ratio = 0.3\n",
        "num_components = 2 #2 angles"
      ],
      "execution_count": null,
      "outputs": [
        {
          "output_type": "stream",
          "text": [
            "Using TensorFlow backend.\n"
          ],
          "name": "stderr"
        }
      ]
    },
    {
      "cell_type": "code",
      "metadata": {
        "id": "xl0qSeClw79V",
        "colab_type": "code",
        "colab": {}
      },
      "source": [
        "# Collect all the .npz files\n",
        "numpy_datasets = glob.glob(data_dir+'dataset*')\n",
        "numpy_datasets = numpy_datasets[1:]"
      ],
      "execution_count": null,
      "outputs": []
    },
    {
      "cell_type": "code",
      "metadata": {
        "id": "8kQZgBFSw8Uz",
        "colab_type": "code",
        "colab": {
          "base_uri": "https://localhost:8080/",
          "height": 243
        },
        "outputId": "8b907808-0bd6-408c-dc94-da4fc3d789a9"
      },
      "source": [
        "# load the data into a dictionary from npz files\n",
        "data_dict = {}\n",
        "for dataset in numpy_datasets[:num_datasets]:\n",
        "    with np.load(dataset) as data:\n",
        "        print(dataset, data['x_dust'].shape)\n",
        "        if 'x_dust' in data_dict.keys():\n",
        "            data_dict['x_dust']   = np.append( data_dict['x_dust'], data['x_dust'],axis=0)\n",
        "            data_dict['x_nodust'] = np.append( data_dict['x_nodust'], data['x_nodust'],axis=0)\n",
        "            data_dict['y']        = np.append( data_dict['y'], data['y'],axis=0)\n",
        "            data_dict['ids']      = np.append( data_dict['ids'], data['id'],axis=0)\n",
        "        else:\n",
        "            data_dict['x_dust']   = data['x_dust']\n",
        "            data_dict['x_nodust'] = data['x_nodust']\n",
        "            data_dict['y']        = data['y']\n",
        "            data_dict['ids']      = data['id']"
      ],
      "execution_count": null,
      "outputs": [
        {
          "output_type": "stream",
          "text": [
            "gdrive/My Drive/SoHPC/Dnn_project/data/dataset_65.p.npz (25, 500, 500, 3)\n",
            "gdrive/My Drive/SoHPC/Dnn_project/data/dataset_2_10.p.npz (25, 500, 500, 3)\n",
            "gdrive/My Drive/SoHPC/Dnn_project/data/dataset_10.p.npz (25, 500, 500, 3)\n",
            "gdrive/My Drive/SoHPC/Dnn_project/data/dataset_2_80.p.npz (25, 500, 500, 3)\n",
            "gdrive/My Drive/SoHPC/Dnn_project/data/dataset_70.p.npz (25, 500, 500, 3)\n",
            "gdrive/My Drive/SoHPC/Dnn_project/data/dataset_85.p.npz (25, 500, 500, 3)\n",
            "gdrive/My Drive/SoHPC/Dnn_project/data/dataset_2_40.p.npz (25, 500, 500, 3)\n",
            "gdrive/My Drive/SoHPC/Dnn_project/data/dataset_25.p.npz (25, 500, 500, 3)\n",
            "gdrive/My Drive/SoHPC/Dnn_project/data/dataset_2_20.p.npz (20, 500, 500, 3)\n",
            "gdrive/My Drive/SoHPC/Dnn_project/data/dataset_60.p.npz (25, 500, 500, 3)\n",
            "gdrive/My Drive/SoHPC/Dnn_project/data/dataset_75.p.npz (25, 500, 500, 3)\n",
            "gdrive/My Drive/SoHPC/Dnn_project/data/dataset_35.p.npz (25, 500, 500, 3)\n",
            "gdrive/My Drive/SoHPC/Dnn_project/data/dataset_95.p.npz (20, 500, 500, 3)\n"
          ],
          "name": "stdout"
        }
      ]
    },
    {
      "cell_type": "code",
      "metadata": {
        "id": "o5xreIoUw8Rf",
        "colab_type": "code",
        "colab": {
          "base_uri": "https://localhost:8080/",
          "height": 34
        },
        "outputId": "e99cb780-8e47-4f23-aabe-ad9ab54cba8d"
      },
      "source": [
        "# check the shape of the dictionary (100 images of 500x500x3 = 4 files of 25 images)\n",
        "data_dict['x_dust'].shape"
      ],
      "execution_count": null,
      "outputs": [
        {
          "output_type": "execute_result",
          "data": {
            "text/plain": [
              "(315, 500, 500, 3)"
            ]
          },
          "metadata": {
            "tags": []
          },
          "execution_count": 6
        }
      ]
    },
    {
      "cell_type": "code",
      "metadata": {
        "id": "xXIiWmD9w8Mk",
        "colab_type": "code",
        "colab": {}
      },
      "source": [
        "# Normalice the angular momentum\n",
        "from sklearn.preprocessing import normalize\n",
        "\n",
        "# Compute the angles from the x,y,z labels\n",
        "# theta = np.arctan(np.sqrt(x**2 + y**2)/z)\n",
        "# phi = np.arctan(y/x)\n",
        "def cart_to_esf(xyz):\n",
        "    angles = np.empty( (len(xyz),2) )\n",
        "    angles[:,0] = np.arctan2(np.sqrt(xyz[:,0]**2 + xyz[:,1]**2),xyz[:,2]) *180/np.pi #theta angle in degrees\n",
        "    angles[:,1] = np.arctan2(xyz[:,1],xyz[:,0]) * 180/np.pi #phi angle in degrees\n",
        "    return angles\n",
        "\n",
        "# Define the function to go back to cartisian cordinates\n",
        "def esf_to_cart(angles):\n",
        "    xyz = np.empty( (len(angles),3) )\n",
        "    ang_rad = angles*np.pi/180\n",
        "    xyz[:,0] = np.sin(ang_rad[:,0])*np.cos(ang_rad[:,1])\n",
        "    xyz[:,1] = np.sin(ang_rad[:,0])*np.sin(ang_rad[:,1])\n",
        "    xyz[:,2] = np.cos(ang_rad[:,0])\n",
        "    return xyz\n",
        "\n",
        "#break the degeneracy of the solutions restricting the solution to 1 sector\n",
        "def break_degeneracy(angles):\n",
        "    ang_norm = angles\n",
        "    for i in range(len(angles)):\n",
        "        if ang_norm[:,1][i] < 0:\n",
        "            ang_norm[:,1][i] = (ang_norm[:,1][i] + 180)\n",
        "    return ang_norm\n",
        "\n",
        "#map the solution to be between [0,1]\n",
        "def map_to_1(angles, max = 180 ):\n",
        "    ang_norm = angles/max\n",
        "    return ang_norm\n",
        "\n",
        "'''data_dict['y_norm'] = normalize(data_dict['y'], axis=1)\n",
        "data_dict['y_angle'] = cart_to_esf(data_dict['y_norm'])\n",
        "data_dict['y_ang'] = break_degeneracy(data_dict['y_angle'])\n",
        "data_dict['y_ang_norm'] = map_to_1(data_dict['y_ang'])\n",
        "data_dict['y_xyz_nd'] = esf_to_cart(data_dict['y_ang'])\n",
        "data_dict['y_xyz']   = esf_to_cart(data_dict['y_angle'])'''\n",
        "\n",
        "# computing the normaliced angle and the come back to cartesian to check the conversion\n",
        "data_dict['y_angle'] = break_degeneracy(cart_to_esf(normalize(data_dict['y'], axis=1)))\n",
        "data_dict['y_xyz_nd']= esf_to_cart(data_dict['y_angle'])\n",
        "data_dict['y_angle'] = map_to_1(data_dict['y_angle'])"
      ],
      "execution_count": null,
      "outputs": []
    },
    {
      "cell_type": "code",
      "metadata": {
        "id": "1OGInSdew8Gz",
        "colab_type": "code",
        "colab": {
          "base_uri": "https://localhost:8080/",
          "height": 34
        },
        "outputId": "6bff4376-9088-4420-d0a3-2e7b63da45e6"
      },
      "source": [
        "# check the shape of our dictionary\n",
        "print(data_dict['y_angle'].shape)"
      ],
      "execution_count": null,
      "outputs": [
        {
          "output_type": "stream",
          "text": [
            "(315, 2)\n"
          ],
          "name": "stdout"
        }
      ]
    },
    {
      "cell_type": "code",
      "metadata": {
        "id": "oeG4CKsW4Iys",
        "colab_type": "code",
        "colab": {}
      },
      "source": [
        "# separate in batches and shuffle the data with a fixed seed\n",
        "#dataset = dataset.batch(batch_size)\n",
        "#dataset = dataset.shuffle(10, seed=123)\n",
        "AUTO = tf.data.experimental.AUTOTUNE"
      ],
      "execution_count": null,
      "outputs": []
    },
    {
      "cell_type": "code",
      "metadata": {
        "id": "TGIo51gX4P35",
        "colab_type": "code",
        "colab": {
          "base_uri": "https://localhost:8080/",
          "height": 54
        },
        "outputId": "1dd2f9c5-7719-4a11-eaa5-6fe99ffd5a09"
      },
      "source": [
        "import matplotlib.pyplot as plt\n",
        "from IPython.display import Markdown, display\n",
        "\n",
        "# functions to visualice the data \n",
        "def viz(ds):\n",
        "    elem = ds.take(3)\n",
        "    for e in elem:\n",
        "        img = e['x_nodust'][:, :,:]\n",
        "        fig, ax = plt.subplots(figsize=(5,5))\n",
        "        im = ax.imshow(img, cmap='gray', vmin=0, vmax=255,origin='lower')\n",
        "        ax.arrow(250,250,100*e['y_xyz_nd'][0],100*e['y_xyz_nd'][1], head_width=7, head_length=10, fc='g', ec='g')\n",
        "        #display(Markdown(\"#### **Label:** {}\".format(e['y_norm'])))\n",
        "        display(Markdown(\"#### **angle:** {}\".format(e['y_angle'])))\n",
        "        display(Markdown(\"#### **inverse:** {}\".format(e['y_xyz_nd'])))\n",
        "        print(e['ids'])\n",
        "        plt.show()\n",
        "        break\n",
        "\n",
        "def viz_batch(ds, idx):\n",
        "    elem = ds.take(idx) # get first batch\n",
        "    for e in elem:\n",
        "        img = e['x_nodust'][idx, :, :,:]\n",
        "        fig, ax = plt.subplots(figsize=(5,5))\n",
        "        im = ax.imshow(img, cmap='gray', vmin=0, vmax=255, origin='lower')\n",
        "        ax.arrow(250,250,100*e['y_xyz_nd'][0,0],100*e['y_xyz_nd'][0,1], head_width=7, head_length=10, fc='g', ec='g')\n",
        "        #display(Markdown(\"#### **Label:** {}\".format(e['y_norm'][idx])))\n",
        "        display(Markdown(\"#### **angle:** {}\".format(e['y_angle'][idx])))\n",
        "        display(Markdown(\"#### **inverse:** {}\".format(e['y_xyz_nd'][idx])))\n",
        "        print(e['ids'][idx])\n",
        "        plt.show()\n",
        "        break\n",
        "        \n",
        "# create the dataset from the dictionary and see the size and type\n",
        "dataset = tf.data.Dataset.from_tensor_slices(data_dict)\n",
        "print(dataset)"
      ],
      "execution_count": null,
      "outputs": [
        {
          "output_type": "stream",
          "text": [
            "<TensorSliceDataset shapes: {x_dust: (500, 500, 3), x_nodust: (500, 500, 3), y: (3,), ids: (), y_angle: (2,), y_xyz_nd: (3,)}, types: {x_dust: tf.float64, x_nodust: tf.float64, y: tf.float64, ids: tf.string, y_angle: tf.float64, y_xyz_nd: tf.float64}>\n"
          ],
          "name": "stdout"
        }
      ]
    },
    {
      "cell_type": "code",
      "metadata": {
        "id": "zj65KGDs4WQY",
        "colab_type": "code",
        "colab": {
          "base_uri": "https://localhost:8080/",
          "height": 1000
        },
        "outputId": "a215747f-e770-40f4-bae0-d2c4578e35d4"
      },
      "source": [
        "# visualice the data\n",
        "viz(dataset)\n",
        "real_dataset = dataset.batch(batch_size).shuffle(10, seed=321)\n",
        "for i in range(1,5):\n",
        "    viz_batch(real_dataset, i) # select any index within the batch, e.g. 2"
      ],
      "execution_count": null,
      "outputs": [
        {
          "output_type": "display_data",
          "data": {
            "text/markdown": "#### **angle:** [0.56040278 0.84607795]",
            "text/plain": [
              "<IPython.core.display.Markdown object>"
            ]
          },
          "metadata": {
            "tags": []
          }
        },
        {
          "output_type": "display_data",
          "data": {
            "text/markdown": "#### **inverse:** [-0.86945268  0.45658841 -0.18862412]",
            "text/plain": [
              "<IPython.core.display.Markdown object>"
            ]
          },
          "metadata": {
            "tags": []
          }
        },
        {
          "output_type": "stream",
          "text": [
            "tf.Tensor(b'g4.86e10_x302_y97_z327', shape=(), dtype=string)\n"
          ],
          "name": "stdout"
        },
        {
          "output_type": "display_data",
          "data": {
            "image/png": "[encoded data removed]",
            "text/plain": [
              "<Figure size 360x360 with 1 Axes>"
            ]
          },
          "metadata": {
            "tags": [],
            "needs_background": "light"
          }
        },
        {
          "output_type": "display_data",
          "data": {
            "text/markdown": "#### **angle:** [0.63168172 0.26672555]",
            "text/plain": [
              "<IPython.core.display.Markdown object>"
            ]
          },
          "metadata": {
            "tags": []
          }
        },
        {
          "output_type": "display_data",
          "data": {
            "text/markdown": "#### **inverse:** [ 0.61255926  0.68056913 -0.40199107]",
            "text/plain": [
              "<IPython.core.display.Markdown object>"
            ]
          },
          "metadata": {
            "tags": []
          }
        },
        {
          "output_type": "stream",
          "text": [
            "tf.Tensor(b'g7.05e09_x228_y233_z199', shape=(), dtype=string)\n"
          ],
          "name": "stdout"
        },
        {
          "output_type": "display_data",
          "data": {
            "image/png": "[encoded data removed]",
            "text/plain": [
              "<Figure size 360x360 with 1 Axes>"
            ]
          },
          "metadata": {
            "tags": [],
            "needs_background": "light"
          }
        },
        {
          "output_type": "display_data",
          "data": {
            "text/markdown": "#### **angle:** [0.26451999 0.54080622]",
            "text/plain": [
              "<IPython.core.display.Markdown object>"
            ]
          },
          "metadata": {
            "tags": []
          }
        },
        {
          "output_type": "display_data",
          "data": {
            "text/markdown": "#### **inverse:** [-0.09442877  0.73255434  0.6741271 ]",
            "text/plain": [
              "<IPython.core.display.Markdown object>"
            ]
          },
          "metadata": {
            "tags": []
          }
        },
        {
          "output_type": "stream",
          "text": [
            "tf.Tensor(b'g5.02e11_x353_y78_z41', shape=(), dtype=string)\n"
          ],
          "name": "stdout"
        },
        {
          "output_type": "display_data",
          "data": {
            "image/png": "[encoded data removed]",
            "text/plain": [
              "<Figure size 360x360 with 1 Axes>"
            ]
          },
          "metadata": {
            "tags": [],
            "needs_background": "light"
          }
        },
        {
          "output_type": "display_data",
          "data": {
            "text/markdown": "#### **angle:** [0.9284296  0.48419617]",
            "text/plain": [
              "<IPython.core.display.Markdown object>"
            ]
          },
          "metadata": {
            "tags": []
          }
        },
        {
          "output_type": "display_data",
          "data": {
            "text/markdown": "#### **inverse:** [ 0.011065    0.22268056 -0.97482867]",
            "text/plain": [
              "<IPython.core.display.Markdown object>"
            ]
          },
          "metadata": {
            "tags": []
          }
        },
        {
          "output_type": "stream",
          "text": [
            "tf.Tensor(b'g7.05e09_x321_y317_z126', shape=(), dtype=string)\n"
          ],
          "name": "stdout"
        },
        {
          "output_type": "display_data",
          "data": {
            "image/png": "[encoded data removed]",
            "text/plain": [
              "<Figure size 360x360 with 1 Axes>"
            ]
          },
          "metadata": {
            "tags": [],
            "needs_background": "light"
          }
        },
        {
          "output_type": "display_data",
          "data": {
            "text/markdown": "#### **angle:** [0.58552068 0.73802287]",
            "text/plain": [
              "<IPython.core.display.Markdown object>"
            ]
          },
          "metadata": {
            "tags": []
          }
        },
        {
          "output_type": "display_data",
          "data": {
            "text/markdown": "#### **inverse:** [-0.6556105   0.70690233 -0.26545048]",
            "text/plain": [
              "<IPython.core.display.Markdown object>"
            ]
          },
          "metadata": {
            "tags": []
          }
        },
        {
          "output_type": "stream",
          "text": [
            "tf.Tensor(b'g5.02e11_x185_y333_z230', shape=(), dtype=string)\n"
          ],
          "name": "stdout"
        },
        {
          "output_type": "display_data",
          "data": {
            "image/png": "[encoded data removed]",
            "text/plain": [
              "<Figure size 360x360 with 1 Axes>"
            ]
          },
          "metadata": {
            "tags": [],
            "needs_background": "light"
          }
        }
      ]
    },
    {
      "cell_type": "code",
      "metadata": {
        "id": "P7EL3lYp4d3u",
        "colab_type": "code",
        "colab": {
          "base_uri": "https://localhost:8080/",
          "height": 52
        },
        "outputId": "d8169705-1472-4c75-c823-69f3f937b344"
      },
      "source": [
        "# defining the train and validation dataset from the existing dictionary, shufling and batching\n",
        "ds_size = len(data_dict['y_angle'])\n",
        "\n",
        "input_ds = (\n",
        "    tf.data.Dataset.from_tensor_slices((data_dict['x_nodust'].astype(np.float32), data_dict['y_angle'].astype(np.float32)))\n",
        "                    # Use seed to ensure we always have the same validation data set!\n",
        "                   .shuffle(ds_size, seed = 123, reshuffle_each_iteration = False)\n",
        ")\n",
        "\n",
        "val_size = math.floor(ds_size * validation_ratio)\n",
        "validation_ds = ( input_ds.take(val_size).batch(batch_size) )\n",
        "train_ds = ( input_ds.skip(val_size).shuffle(buffer_size=20, reshuffle_each_iteration=True).batch(batch_size) )\n",
        "\n",
        "print(train_ds)\n",
        "print(validation_ds)"
      ],
      "execution_count": null,
      "outputs": [
        {
          "output_type": "stream",
          "text": [
            "<BatchDataset shapes: ((None, 500, 500, 3), (None, 2)), types: (tf.float32, tf.float32)>\n",
            "<BatchDataset shapes: ((None, 500, 500, 3), (None, 2)), types: (tf.float32, tf.float32)>\n"
          ],
          "name": "stdout"
        }
      ]
    },
    {
      "cell_type": "code",
      "metadata": {
        "id": "h-MLsdsavyQ5",
        "colab_type": "code",
        "colab": {
          "base_uri": "https://localhost:8080/",
          "height": 839
        },
        "outputId": "9bd33a0a-5f4b-46ec-94af-b65094d942bd"
      },
      "source": [
        "from keras.callbacks import EarlyStopping\n",
        "from keras.callbacks import ModelCheckpoint\n",
        "from keras.callbacks import TensorBoard\n",
        "# Load the TensorBoard notebook extension\n",
        "%load_ext tensorboard\n",
        "%tensorboard --logdir 'gdrive/My Drive/SoHPC/Dnn_project/models/logs'"
      ],
      "execution_count": null,
      "outputs": [
        {
          "output_type": "display_data",
          "data": {
            "text/plain": [
              "Reusing TensorBoard on port 6006 (pid 627), started 0:16:06 ago. (Use '!kill 627' to kill it.)"
            ]
          },
          "metadata": {
            "tags": []
          }
        },
        {
          "output_type": "display_data",
          "data": {
            "application/javascript": [
              "\n",
              "        (async () => {\n",
              "            const url = await google.colab.kernel.proxyPort(6006, {\"cache\": true});\n",
              "            const iframe = document.createElement('iframe');\n",
              "            iframe.src = url;\n",
              "            iframe.setAttribute('width', '100%');\n",
              "            iframe.setAttribute('height', '800');\n",
              "            iframe.setAttribute('frameborder', 0);\n",
              "            document.body.appendChild(iframe);\n",
              "        })();\n",
              "    "
            ],
            "text/plain": [
              "<IPython.core.display.Javascript object>"
            ]
          },
          "metadata": {
            "tags": []
          }
        }
      ]
    },
    {
      "cell_type": "code",
      "metadata": {
        "id": "6KcQWRIQ42rz",
        "colab_type": "code",
        "colab": {
          "base_uri": "https://localhost:8080/",
          "height": 1000
        },
        "outputId": "ee01f790-b14b-48a3-8798-f2a5b351531c"
      },
      "source": [
        "#ResNet34, preprocess_input = Classifiers.get('resnet34')\n",
        "\n",
        "base_model = tf.keras.applications.ResNet50(input_shape=(sizey,sizex,3), \n",
        "                                          weights='imagenet', include_top=False)\n",
        "\n",
        "#Define the negative log likelihood\n",
        "def nll1(y_true, y_pred):\n",
        "    \"\"\" Negative log likelihood. \"\"\"\n",
        "    # keras.losses.binary_crossentropy give the mean\n",
        "    # over the last axis. we require the sum\n",
        "    return K.sum(K.binary_crossentropy(y_true, y_pred), axis=-1)\n",
        "\n",
        "negloglik = lambda y, p_y: -p_y.log_prob(y)\n",
        "\n",
        "# Build model\n",
        "#base_model = ResNet34(input_shape=(sizey,sizex,3), weights='imagenet', include_top=False)\n",
        "\n",
        "# redefine the output to be from tensorflow probability a PDF\n",
        "x = tf.keras.layers.GlobalAveragePooling2D()(base_model.output)\n",
        "x_2 = tf.keras.layers.Dense(tfpl.IndependentNormal.params_size(2), activation=None)(x)\n",
        "#tfpl.IndependentNormal(input_shape, tfd.Normal.mean),\n",
        "output = tfpl.IndependentNormal(2, tfd.Normal.sample)(x_2)\n",
        "model = tf.keras.models.Model(inputs=[base_model.input], outputs=[output])\n",
        "\n",
        "# Use existing best weights if available...\n",
        "snapshot_weights = 'best_weights.hdf5'\n",
        "if os.path.isfile(snapshot_weights):\n",
        "    model.load_weights(snapshot_weights)\n",
        "    \n",
        "model.compile(optimizer='SGD', loss='MeanSquaredError', metrics=['accuracy'])\n",
        "model.summary()\n",
        "# For tensorboard\n",
        "log_dir_s = log_dir + datetime.datetime.now().strftime(\"%Y%m%d-%H%M%S\")\n",
        "os.makedirs(log_dir_s, exist_ok=True)\n",
        "tensorboard_callback = tf.keras.callbacks.TensorBoard(log_dir=log_dir_s, histogram_freq=1, update_freq='batch', profile_batch=0)\n",
        "\n",
        "# Checkpointing\n",
        "checkpointer = tf.keras.callbacks.ModelCheckpoint(filepath=snapshot_weights,\n",
        "                               monitor='val_accuracy',\n",
        "                               verbose=1,\n",
        "                               save_best_only=True)\n",
        "\n",
        "callbacks = [\n",
        "    tensorboard_callback,\n",
        "    checkpointer\n",
        "]\n",
        "\n",
        "model.save('gdrive/My Drive/SoHPC/Dnn_project/models/untrained50.h5')\n",
        "\n",
        "model.fit(\n",
        "    train_ds,\n",
        "    validation_data = validation_ds,\n",
        "    epochs = nb_epochs,\n",
        "    callbacks = callbacks,)\n",
        "    # class_weight=class_weight)\n",
        "\n",
        "model.save('gdrive/My Drive/SoHPC/Dnn_project/models/trained50.h5') # Not really needed as we have the weights already"
      ],
      "execution_count": null,
      "outputs": [
        {
          "output_type": "stream",
          "text": [
            "Model: \"model\"\n",
            "__________________________________________________________________________________________________\n",
            "Layer (type)                    Output Shape         Param #     Connected to                     \n",
            "==================================================================================================\n",
            "input_1 (InputLayer)            [(None, 500, 500, 3) 0                                            \n",
            "__________________________________________________________________________________________________\n",
            "conv1_pad (ZeroPadding2D)       (None, 506, 506, 3)  0           input_1[0][0]                    \n",
            "__________________________________________________________________________________________________\n",
            "conv1_conv (Conv2D)             (None, 250, 250, 64) 9472        conv1_pad[0][0]                  \n",
            "__________________________________________________________________________________________________\n",
            "conv1_bn (BatchNormalization)   (None, 250, 250, 64) 256         conv1_conv[0][0]                 \n",
            "__________________________________________________________________________________________________\n",
            "conv1_relu (Activation)         (None, 250, 250, 64) 0           conv1_bn[0][0]                   \n",
            "__________________________________________________________________________________________________\n",
            "pool1_pad (ZeroPadding2D)       (None, 252, 252, 64) 0           conv1_relu[0][0]                 \n",
            "__________________________________________________________________________________________________\n",
            "pool1_pool (MaxPooling2D)       (None, 125, 125, 64) 0           pool1_pad[0][0]                  \n",
            "__________________________________________________________________________________________________\n",
            "conv2_block1_1_conv (Conv2D)    (None, 125, 125, 64) 4160        pool1_pool[0][0]                 \n",
            "__________________________________________________________________________________________________\n",
            "conv2_block1_1_bn (BatchNormali (None, 125, 125, 64) 256         conv2_block1_1_conv[0][0]        \n",
            "__________________________________________________________________________________________________\n",
            "conv2_block1_1_relu (Activation (None, 125, 125, 64) 0           conv2_block1_1_bn[0][0]          \n",
            "__________________________________________________________________________________________________\n",
            "conv2_block1_2_conv (Conv2D)    (None, 125, 125, 64) 36928       conv2_block1_1_relu[0][0]        \n",
            "__________________________________________________________________________________________________\n",
            "conv2_block1_2_bn (BatchNormali (None, 125, 125, 64) 256         conv2_block1_2_conv[0][0]        \n",
            "__________________________________________________________________________________________________\n",
            "conv2_block1_2_relu (Activation (None, 125, 125, 64) 0           conv2_block1_2_bn[0][0]          \n",
            "__________________________________________________________________________________________________\n",
            "conv2_block1_0_conv (Conv2D)    (None, 125, 125, 256 16640       pool1_pool[0][0]                 \n",
            "__________________________________________________________________________________________________\n",
            "conv2_block1_3_conv (Conv2D)    (None, 125, 125, 256 16640       conv2_block1_2_relu[0][0]        \n",
            "__________________________________________________________________________________________________\n",
            "conv2_block1_0_bn (BatchNormali (None, 125, 125, 256 1024        conv2_block1_0_conv[0][0]        \n",
            "__________________________________________________________________________________________________\n",
            "conv2_block1_3_bn (BatchNormali (None, 125, 125, 256 1024        conv2_block1_3_conv[0][0]        \n",
            "__________________________________________________________________________________________________\n",
            "conv2_block1_add (Add)          (None, 125, 125, 256 0           conv2_block1_0_bn[0][0]          \n",
            "                                                                 conv2_block1_3_bn[0][0]          \n",
            "__________________________________________________________________________________________________\n",
            "conv2_block1_out (Activation)   (None, 125, 125, 256 0           conv2_block1_add[0][0]           \n",
            "__________________________________________________________________________________________________\n",
            "conv2_block2_1_conv (Conv2D)    (None, 125, 125, 64) 16448       conv2_block1_out[0][0]           \n",
            "__________________________________________________________________________________________________\n",
            "conv2_block2_1_bn (BatchNormali (None, 125, 125, 64) 256         conv2_block2_1_conv[0][0]        \n",
            "__________________________________________________________________________________________________\n",
            "conv2_block2_1_relu (Activation (None, 125, 125, 64) 0           conv2_block2_1_bn[0][0]          \n",
            "__________________________________________________________________________________________________\n",
            "conv2_block2_2_conv (Conv2D)    (None, 125, 125, 64) 36928       conv2_block2_1_relu[0][0]        \n",
            "__________________________________________________________________________________________________\n",
            "conv2_block2_2_bn (BatchNormali (None, 125, 125, 64) 256         conv2_block2_2_conv[0][0]        \n",
            "__________________________________________________________________________________________________\n",
            "conv2_block2_2_relu (Activation (None, 125, 125, 64) 0           conv2_block2_2_bn[0][0]          \n",
            "__________________________________________________________________________________________________\n",
            "conv2_block2_3_conv (Conv2D)    (None, 125, 125, 256 16640       conv2_block2_2_relu[0][0]        \n",
            "__________________________________________________________________________________________________\n",
            "conv2_block2_3_bn (BatchNormali (None, 125, 125, 256 1024        conv2_block2_3_conv[0][0]        \n",
            "__________________________________________________________________________________________________\n",
            "conv2_block2_add (Add)          (None, 125, 125, 256 0           conv2_block1_out[0][0]           \n",
            "                                                                 conv2_block2_3_bn[0][0]          \n",
            "__________________________________________________________________________________________________\n",
            "conv2_block2_out (Activation)   (None, 125, 125, 256 0           conv2_block2_add[0][0]           \n",
            "__________________________________________________________________________________________________\n",
            "conv2_block3_1_conv (Conv2D)    (None, 125, 125, 64) 16448       conv2_block2_out[0][0]           \n",
            "__________________________________________________________________________________________________\n",
            "conv2_block3_1_bn (BatchNormali (None, 125, 125, 64) 256         conv2_block3_1_conv[0][0]        \n",
            "__________________________________________________________________________________________________\n",
            "conv2_block3_1_relu (Activation (None, 125, 125, 64) 0           conv2_block3_1_bn[0][0]          \n",
            "__________________________________________________________________________________________________\n",
            "conv2_block3_2_conv (Conv2D)    (None, 125, 125, 64) 36928       conv2_block3_1_relu[0][0]        \n",
            "__________________________________________________________________________________________________\n",
            "conv2_block3_2_bn (BatchNormali (None, 125, 125, 64) 256         conv2_block3_2_conv[0][0]        \n",
            "__________________________________________________________________________________________________\n",
            "conv2_block3_2_relu (Activation (None, 125, 125, 64) 0           conv2_block3_2_bn[0][0]          \n",
            "__________________________________________________________________________________________________\n",
            "conv2_block3_3_conv (Conv2D)    (None, 125, 125, 256 16640       conv2_block3_2_relu[0][0]        \n",
            "__________________________________________________________________________________________________\n",
            "conv2_block3_3_bn (BatchNormali (None, 125, 125, 256 1024        conv2_block3_3_conv[0][0]        \n",
            "__________________________________________________________________________________________________\n",
            "conv2_block3_add (Add)          (None, 125, 125, 256 0           conv2_block2_out[0][0]           \n",
            "                                                                 conv2_block3_3_bn[0][0]          \n",
            "__________________________________________________________________________________________________\n",
            "conv2_block3_out (Activation)   (None, 125, 125, 256 0           conv2_block3_add[0][0]           \n",
            "__________________________________________________________________________________________________\n",
            "conv3_block1_1_conv (Conv2D)    (None, 63, 63, 128)  32896       conv2_block3_out[0][0]           \n",
            "__________________________________________________________________________________________________\n",
            "conv3_block1_1_bn (BatchNormali (None, 63, 63, 128)  512         conv3_block1_1_conv[0][0]        \n",
            "__________________________________________________________________________________________________\n",
            "conv3_block1_1_relu (Activation (None, 63, 63, 128)  0           conv3_block1_1_bn[0][0]          \n",
            "__________________________________________________________________________________________________\n",
            "conv3_block1_2_conv (Conv2D)    (None, 63, 63, 128)  147584      conv3_block1_1_relu[0][0]        \n",
            "__________________________________________________________________________________________________\n",
            "conv3_block1_2_bn (BatchNormali (None, 63, 63, 128)  512         conv3_block1_2_conv[0][0]        \n",
            "__________________________________________________________________________________________________\n",
            "conv3_block1_2_relu (Activation (None, 63, 63, 128)  0           conv3_block1_2_bn[0][0]          \n",
            "__________________________________________________________________________________________________\n",
            "conv3_block1_0_conv (Conv2D)    (None, 63, 63, 512)  131584      conv2_block3_out[0][0]           \n",
            "__________________________________________________________________________________________________\n",
            "conv3_block1_3_conv (Conv2D)    (None, 63, 63, 512)  66048       conv3_block1_2_relu[0][0]        \n",
            "__________________________________________________________________________________________________\n",
            "conv3_block1_0_bn (BatchNormali (None, 63, 63, 512)  2048        conv3_block1_0_conv[0][0]        \n",
            "__________________________________________________________________________________________________\n",
            "conv3_block1_3_bn (BatchNormali (None, 63, 63, 512)  2048        conv3_block1_3_conv[0][0]        \n",
            "__________________________________________________________________________________________________\n",
            "conv3_block1_add (Add)          (None, 63, 63, 512)  0           conv3_block1_0_bn[0][0]          \n",
            "                                                                 conv3_block1_3_bn[0][0]          \n",
            "__________________________________________________________________________________________________\n",
            "conv3_block1_out (Activation)   (None, 63, 63, 512)  0           conv3_block1_add[0][0]           \n",
            "__________________________________________________________________________________________________\n",
            "conv3_block2_1_conv (Conv2D)    (None, 63, 63, 128)  65664       conv3_block1_out[0][0]           \n",
            "__________________________________________________________________________________________________\n",
            "conv3_block2_1_bn (BatchNormali (None, 63, 63, 128)  512         conv3_block2_1_conv[0][0]        \n",
            "__________________________________________________________________________________________________\n",
            "conv3_block2_1_relu (Activation (None, 63, 63, 128)  0           conv3_block2_1_bn[0][0]          \n",
            "__________________________________________________________________________________________________\n",
            "conv3_block2_2_conv (Conv2D)    (None, 63, 63, 128)  147584      conv3_block2_1_relu[0][0]        \n",
            "__________________________________________________________________________________________________\n",
            "conv3_block2_2_bn (BatchNormali (None, 63, 63, 128)  512         conv3_block2_2_conv[0][0]        \n",
            "__________________________________________________________________________________________________\n",
            "conv3_block2_2_relu (Activation (None, 63, 63, 128)  0           conv3_block2_2_bn[0][0]          \n",
            "__________________________________________________________________________________________________\n",
            "conv3_block2_3_conv (Conv2D)    (None, 63, 63, 512)  66048       conv3_block2_2_relu[0][0]        \n",
            "__________________________________________________________________________________________________\n",
            "conv3_block2_3_bn (BatchNormali (None, 63, 63, 512)  2048        conv3_block2_3_conv[0][0]        \n",
            "__________________________________________________________________________________________________\n",
            "conv3_block2_add (Add)          (None, 63, 63, 512)  0           conv3_block1_out[0][0]           \n",
            "                                                                 conv3_block2_3_bn[0][0]          \n",
            "__________________________________________________________________________________________________\n",
            "conv3_block2_out (Activation)   (None, 63, 63, 512)  0           conv3_block2_add[0][0]           \n",
            "__________________________________________________________________________________________________\n",
            "conv3_block3_1_conv (Conv2D)    (None, 63, 63, 128)  65664       conv3_block2_out[0][0]           \n",
            "__________________________________________________________________________________________________\n",
            "conv3_block3_1_bn (BatchNormali (None, 63, 63, 128)  512         conv3_block3_1_conv[0][0]        \n",
            "__________________________________________________________________________________________________\n",
            "conv3_block3_1_relu (Activation (None, 63, 63, 128)  0           conv3_block3_1_bn[0][0]          \n",
            "__________________________________________________________________________________________________\n",
            "conv3_block3_2_conv (Conv2D)    (None, 63, 63, 128)  147584      conv3_block3_1_relu[0][0]        \n",
            "__________________________________________________________________________________________________\n",
            "conv3_block3_2_bn (BatchNormali (None, 63, 63, 128)  512         conv3_block3_2_conv[0][0]        \n",
            "__________________________________________________________________________________________________\n",
            "conv3_block3_2_relu (Activation (None, 63, 63, 128)  0           conv3_block3_2_bn[0][0]          \n",
            "__________________________________________________________________________________________________\n",
            "conv3_block3_3_conv (Conv2D)    (None, 63, 63, 512)  66048       conv3_block3_2_relu[0][0]        \n",
            "__________________________________________________________________________________________________\n",
            "conv3_block3_3_bn (BatchNormali (None, 63, 63, 512)  2048        conv3_block3_3_conv[0][0]        \n",
            "__________________________________________________________________________________________________\n",
            "conv3_block3_add (Add)          (None, 63, 63, 512)  0           conv3_block2_out[0][0]           \n",
            "                                                                 conv3_block3_3_bn[0][0]          \n",
            "__________________________________________________________________________________________________\n",
            "conv3_block3_out (Activation)   (None, 63, 63, 512)  0           conv3_block3_add[0][0]           \n",
            "__________________________________________________________________________________________________\n",
            "conv3_block4_1_conv (Conv2D)    (None, 63, 63, 128)  65664       conv3_block3_out[0][0]           \n",
            "__________________________________________________________________________________________________\n",
            "conv3_block4_1_bn (BatchNormali (None, 63, 63, 128)  512         conv3_block4_1_conv[0][0]        \n",
            "__________________________________________________________________________________________________\n",
            "conv3_block4_1_relu (Activation (None, 63, 63, 128)  0           conv3_block4_1_bn[0][0]          \n",
            "__________________________________________________________________________________________________\n",
            "conv3_block4_2_conv (Conv2D)    (None, 63, 63, 128)  147584      conv3_block4_1_relu[0][0]        \n",
            "__________________________________________________________________________________________________\n",
            "conv3_block4_2_bn (BatchNormali (None, 63, 63, 128)  512         conv3_block4_2_conv[0][0]        \n",
            "__________________________________________________________________________________________________\n",
            "conv3_block4_2_relu (Activation (None, 63, 63, 128)  0           conv3_block4_2_bn[0][0]          \n",
            "__________________________________________________________________________________________________\n",
            "conv3_block4_3_conv (Conv2D)    (None, 63, 63, 512)  66048       conv3_block4_2_relu[0][0]        \n",
            "__________________________________________________________________________________________________\n",
            "conv3_block4_3_bn (BatchNormali (None, 63, 63, 512)  2048        conv3_block4_3_conv[0][0]        \n",
            "__________________________________________________________________________________________________\n",
            "conv3_block4_add (Add)          (None, 63, 63, 512)  0           conv3_block3_out[0][0]           \n",
            "                                                                 conv3_block4_3_bn[0][0]          \n",
            "__________________________________________________________________________________________________\n",
            "conv3_block4_out (Activation)   (None, 63, 63, 512)  0           conv3_block4_add[0][0]           \n",
            "__________________________________________________________________________________________________\n",
            "conv4_block1_1_conv (Conv2D)    (None, 32, 32, 256)  131328      conv3_block4_out[0][0]           \n",
            "__________________________________________________________________________________________________\n",
            "conv4_block1_1_bn (BatchNormali (None, 32, 32, 256)  1024        conv4_block1_1_conv[0][0]        \n",
            "__________________________________________________________________________________________________\n",
            "conv4_block1_1_relu (Activation (None, 32, 32, 256)  0           conv4_block1_1_bn[0][0]          \n",
            "__________________________________________________________________________________________________\n",
            "conv4_block1_2_conv (Conv2D)    (None, 32, 32, 256)  590080      conv4_block1_1_relu[0][0]        \n",
            "__________________________________________________________________________________________________\n",
            "conv4_block1_2_bn (BatchNormali (None, 32, 32, 256)  1024        conv4_block1_2_conv[0][0]        \n",
            "__________________________________________________________________________________________________\n",
            "conv4_block1_2_relu (Activation (None, 32, 32, 256)  0           conv4_block1_2_bn[0][0]          \n",
            "__________________________________________________________________________________________________\n",
            "conv4_block1_0_conv (Conv2D)    (None, 32, 32, 1024) 525312      conv3_block4_out[0][0]           \n",
            "__________________________________________________________________________________________________\n",
            "conv4_block1_3_conv (Conv2D)    (None, 32, 32, 1024) 263168      conv4_block1_2_relu[0][0]        \n",
            "__________________________________________________________________________________________________\n",
            "conv4_block1_0_bn (BatchNormali (None, 32, 32, 1024) 4096        conv4_block1_0_conv[0][0]        \n",
            "__________________________________________________________________________________________________\n",
            "conv4_block1_3_bn (BatchNormali (None, 32, 32, 1024) 4096        conv4_block1_3_conv[0][0]        \n",
            "__________________________________________________________________________________________________\n",
            "conv4_block1_add (Add)          (None, 32, 32, 1024) 0           conv4_block1_0_bn[0][0]          \n",
            "                                                                 conv4_block1_3_bn[0][0]          \n",
            "__________________________________________________________________________________________________\n",
            "conv4_block1_out (Activation)   (None, 32, 32, 1024) 0           conv4_block1_add[0][0]           \n",
            "__________________________________________________________________________________________________\n",
            "conv4_block2_1_conv (Conv2D)    (None, 32, 32, 256)  262400      conv4_block1_out[0][0]           \n",
            "__________________________________________________________________________________________________\n",
            "conv4_block2_1_bn (BatchNormali (None, 32, 32, 256)  1024        conv4_block2_1_conv[0][0]        \n",
            "__________________________________________________________________________________________________\n",
            "conv4_block2_1_relu (Activation (None, 32, 32, 256)  0           conv4_block2_1_bn[0][0]          \n",
            "__________________________________________________________________________________________________\n",
            "conv4_block2_2_conv (Conv2D)    (None, 32, 32, 256)  590080      conv4_block2_1_relu[0][0]        \n",
            "__________________________________________________________________________________________________\n",
            "conv4_block2_2_bn (BatchNormali (None, 32, 32, 256)  1024        conv4_block2_2_conv[0][0]        \n",
            "__________________________________________________________________________________________________\n",
            "conv4_block2_2_relu (Activation (None, 32, 32, 256)  0           conv4_block2_2_bn[0][0]          \n",
            "__________________________________________________________________________________________________\n",
            "conv4_block2_3_conv (Conv2D)    (None, 32, 32, 1024) 263168      conv4_block2_2_relu[0][0]        \n",
            "__________________________________________________________________________________________________\n",
            "conv4_block2_3_bn (BatchNormali (None, 32, 32, 1024) 4096        conv4_block2_3_conv[0][0]        \n",
            "__________________________________________________________________________________________________\n",
            "conv4_block2_add (Add)          (None, 32, 32, 1024) 0           conv4_block1_out[0][0]           \n",
            "                                                                 conv4_block2_3_bn[0][0]          \n",
            "__________________________________________________________________________________________________\n",
            "conv4_block2_out (Activation)   (None, 32, 32, 1024) 0           conv4_block2_add[0][0]           \n",
            "__________________________________________________________________________________________________\n",
            "conv4_block3_1_conv (Conv2D)    (None, 32, 32, 256)  262400      conv4_block2_out[0][0]           \n",
            "__________________________________________________________________________________________________\n",
            "conv4_block3_1_bn (BatchNormali (None, 32, 32, 256)  1024        conv4_block3_1_conv[0][0]        \n",
            "__________________________________________________________________________________________________\n",
            "conv4_block3_1_relu (Activation (None, 32, 32, 256)  0           conv4_block3_1_bn[0][0]          \n",
            "__________________________________________________________________________________________________\n",
            "conv4_block3_2_conv (Conv2D)    (None, 32, 32, 256)  590080      conv4_block3_1_relu[0][0]        \n",
            "__________________________________________________________________________________________________\n",
            "conv4_block3_2_bn (BatchNormali (None, 32, 32, 256)  1024        conv4_block3_2_conv[0][0]        \n",
            "__________________________________________________________________________________________________\n",
            "conv4_block3_2_relu (Activation (None, 32, 32, 256)  0           conv4_block3_2_bn[0][0]          \n",
            "__________________________________________________________________________________________________\n",
            "conv4_block3_3_conv (Conv2D)    (None, 32, 32, 1024) 263168      conv4_block3_2_relu[0][0]        \n",
            "__________________________________________________________________________________________________\n",
            "conv4_block3_3_bn (BatchNormali (None, 32, 32, 1024) 4096        conv4_block3_3_conv[0][0]        \n",
            "__________________________________________________________________________________________________\n",
            "conv4_block3_add (Add)          (None, 32, 32, 1024) 0           conv4_block2_out[0][0]           \n",
            "                                                                 conv4_block3_3_bn[0][0]          \n",
            "__________________________________________________________________________________________________\n",
            "conv4_block3_out (Activation)   (None, 32, 32, 1024) 0           conv4_block3_add[0][0]           \n",
            "__________________________________________________________________________________________________\n",
            "conv4_block4_1_conv (Conv2D)    (None, 32, 32, 256)  262400      conv4_block3_out[0][0]           \n",
            "__________________________________________________________________________________________________\n",
            "conv4_block4_1_bn (BatchNormali (None, 32, 32, 256)  1024        conv4_block4_1_conv[0][0]        \n",
            "__________________________________________________________________________________________________\n",
            "conv4_block4_1_relu (Activation (None, 32, 32, 256)  0           conv4_block4_1_bn[0][0]          \n",
            "__________________________________________________________________________________________________\n",
            "conv4_block4_2_conv (Conv2D)    (None, 32, 32, 256)  590080      conv4_block4_1_relu[0][0]        \n",
            "__________________________________________________________________________________________________\n",
            "conv4_block4_2_bn (BatchNormali (None, 32, 32, 256)  1024        conv4_block4_2_conv[0][0]        \n",
            "__________________________________________________________________________________________________\n",
            "conv4_block4_2_relu (Activation (None, 32, 32, 256)  0           conv4_block4_2_bn[0][0]          \n",
            "__________________________________________________________________________________________________\n",
            "conv4_block4_3_conv (Conv2D)    (None, 32, 32, 1024) 263168      conv4_block4_2_relu[0][0]        \n",
            "__________________________________________________________________________________________________\n",
            "conv4_block4_3_bn (BatchNormali (None, 32, 32, 1024) 4096        conv4_block4_3_conv[0][0]        \n",
            "__________________________________________________________________________________________________\n",
            "conv4_block4_add (Add)          (None, 32, 32, 1024) 0           conv4_block3_out[0][0]           \n",
            "                                                                 conv4_block4_3_bn[0][0]          \n",
            "__________________________________________________________________________________________________\n",
            "conv4_block4_out (Activation)   (None, 32, 32, 1024) 0           conv4_block4_add[0][0]           \n",
            "__________________________________________________________________________________________________\n",
            "conv4_block5_1_conv (Conv2D)    (None, 32, 32, 256)  262400      conv4_block4_out[0][0]           \n",
            "__________________________________________________________________________________________________\n",
            "conv4_block5_1_bn (BatchNormali (None, 32, 32, 256)  1024        conv4_block5_1_conv[0][0]        \n",
            "__________________________________________________________________________________________________\n",
            "conv4_block5_1_relu (Activation (None, 32, 32, 256)  0           conv4_block5_1_bn[0][0]          \n",
            "__________________________________________________________________________________________________\n",
            "conv4_block5_2_conv (Conv2D)    (None, 32, 32, 256)  590080      conv4_block5_1_relu[0][0]        \n",
            "__________________________________________________________________________________________________\n",
            "conv4_block5_2_bn (BatchNormali (None, 32, 32, 256)  1024        conv4_block5_2_conv[0][0]        \n",
            "__________________________________________________________________________________________________\n",
            "conv4_block5_2_relu (Activation (None, 32, 32, 256)  0           conv4_block5_2_bn[0][0]          \n",
            "__________________________________________________________________________________________________\n",
            "conv4_block5_3_conv (Conv2D)    (None, 32, 32, 1024) 263168      conv4_block5_2_relu[0][0]        \n",
            "__________________________________________________________________________________________________\n",
            "conv4_block5_3_bn (BatchNormali (None, 32, 32, 1024) 4096        conv4_block5_3_conv[0][0]        \n",
            "__________________________________________________________________________________________________\n",
            "conv4_block5_add (Add)          (None, 32, 32, 1024) 0           conv4_block4_out[0][0]           \n",
            "                                                                 conv4_block5_3_bn[0][0]          \n",
            "__________________________________________________________________________________________________\n",
            "conv4_block5_out (Activation)   (None, 32, 32, 1024) 0           conv4_block5_add[0][0]           \n",
            "__________________________________________________________________________________________________\n",
            "conv4_block6_1_conv (Conv2D)    (None, 32, 32, 256)  262400      conv4_block5_out[0][0]           \n",
            "__________________________________________________________________________________________________\n",
            "conv4_block6_1_bn (BatchNormali (None, 32, 32, 256)  1024        conv4_block6_1_conv[0][0]        \n",
            "__________________________________________________________________________________________________\n",
            "conv4_block6_1_relu (Activation (None, 32, 32, 256)  0           conv4_block6_1_bn[0][0]          \n",
            "__________________________________________________________________________________________________\n",
            "conv4_block6_2_conv (Conv2D)    (None, 32, 32, 256)  590080      conv4_block6_1_relu[0][0]        \n",
            "__________________________________________________________________________________________________\n",
            "conv4_block6_2_bn (BatchNormali (None, 32, 32, 256)  1024        conv4_block6_2_conv[0][0]        \n",
            "__________________________________________________________________________________________________\n",
            "conv4_block6_2_relu (Activation (None, 32, 32, 256)  0           conv4_block6_2_bn[0][0]          \n",
            "__________________________________________________________________________________________________\n",
            "conv4_block6_3_conv (Conv2D)    (None, 32, 32, 1024) 263168      conv4_block6_2_relu[0][0]        \n",
            "__________________________________________________________________________________________________\n",
            "conv4_block6_3_bn (BatchNormali (None, 32, 32, 1024) 4096        conv4_block6_3_conv[0][0]        \n",
            "__________________________________________________________________________________________________\n",
            "conv4_block6_add (Add)          (None, 32, 32, 1024) 0           conv4_block5_out[0][0]           \n",
            "                                                                 conv4_block6_3_bn[0][0]          \n",
            "__________________________________________________________________________________________________\n",
            "conv4_block6_out (Activation)   (None, 32, 32, 1024) 0           conv4_block6_add[0][0]           \n",
            "__________________________________________________________________________________________________\n",
            "conv5_block1_1_conv (Conv2D)    (None, 16, 16, 512)  524800      conv4_block6_out[0][0]           \n",
            "__________________________________________________________________________________________________\n",
            "conv5_block1_1_bn (BatchNormali (None, 16, 16, 512)  2048        conv5_block1_1_conv[0][0]        \n",
            "__________________________________________________________________________________________________\n",
            "conv5_block1_1_relu (Activation (None, 16, 16, 512)  0           conv5_block1_1_bn[0][0]          \n",
            "__________________________________________________________________________________________________\n",
            "conv5_block1_2_conv (Conv2D)    (None, 16, 16, 512)  2359808     conv5_block1_1_relu[0][0]        \n",
            "__________________________________________________________________________________________________\n",
            "conv5_block1_2_bn (BatchNormali (None, 16, 16, 512)  2048        conv5_block1_2_conv[0][0]        \n",
            "__________________________________________________________________________________________________\n",
            "conv5_block1_2_relu (Activation (None, 16, 16, 512)  0           conv5_block1_2_bn[0][0]          \n",
            "__________________________________________________________________________________________________\n",
            "conv5_block1_0_conv (Conv2D)    (None, 16, 16, 2048) 2099200     conv4_block6_out[0][0]           \n",
            "__________________________________________________________________________________________________\n",
            "conv5_block1_3_conv (Conv2D)    (None, 16, 16, 2048) 1050624     conv5_block1_2_relu[0][0]        \n",
            "__________________________________________________________________________________________________\n",
            "conv5_block1_0_bn (BatchNormali (None, 16, 16, 2048) 8192        conv5_block1_0_conv[0][0]        \n",
            "__________________________________________________________________________________________________\n",
            "conv5_block1_3_bn (BatchNormali (None, 16, 16, 2048) 8192        conv5_block1_3_conv[0][0]        \n",
            "__________________________________________________________________________________________________\n",
            "conv5_block1_add (Add)          (None, 16, 16, 2048) 0           conv5_block1_0_bn[0][0]          \n",
            "                                                                 conv5_block1_3_bn[0][0]          \n",
            "__________________________________________________________________________________________________\n",
            "conv5_block1_out (Activation)   (None, 16, 16, 2048) 0           conv5_block1_add[0][0]           \n",
            "__________________________________________________________________________________________________\n",
            "conv5_block2_1_conv (Conv2D)    (None, 16, 16, 512)  1049088     conv5_block1_out[0][0]           \n",
            "__________________________________________________________________________________________________\n",
            "conv5_block2_1_bn (BatchNormali (None, 16, 16, 512)  2048        conv5_block2_1_conv[0][0]        \n",
            "__________________________________________________________________________________________________\n",
            "conv5_block2_1_relu (Activation (None, 16, 16, 512)  0           conv5_block2_1_bn[0][0]          \n",
            "__________________________________________________________________________________________________\n",
            "conv5_block2_2_conv (Conv2D)    (None, 16, 16, 512)  2359808     conv5_block2_1_relu[0][0]        \n",
            "__________________________________________________________________________________________________\n",
            "conv5_block2_2_bn (BatchNormali (None, 16, 16, 512)  2048        conv5_block2_2_conv[0][0]        \n",
            "__________________________________________________________________________________________________\n",
            "conv5_block2_2_relu (Activation (None, 16, 16, 512)  0           conv5_block2_2_bn[0][0]          \n",
            "__________________________________________________________________________________________________\n",
            "conv5_block2_3_conv (Conv2D)    (None, 16, 16, 2048) 1050624     conv5_block2_2_relu[0][0]        \n",
            "__________________________________________________________________________________________________\n",
            "conv5_block2_3_bn (BatchNormali (None, 16, 16, 2048) 8192        conv5_block2_3_conv[0][0]        \n",
            "__________________________________________________________________________________________________\n",
            "conv5_block2_add (Add)          (None, 16, 16, 2048) 0           conv5_block1_out[0][0]           \n",
            "                                                                 conv5_block2_3_bn[0][0]          \n",
            "__________________________________________________________________________________________________\n",
            "conv5_block2_out (Activation)   (None, 16, 16, 2048) 0           conv5_block2_add[0][0]           \n",
            "__________________________________________________________________________________________________\n",
            "conv5_block3_1_conv (Conv2D)    (None, 16, 16, 512)  1049088     conv5_block2_out[0][0]           \n",
            "__________________________________________________________________________________________________\n",
            "conv5_block3_1_bn (BatchNormali (None, 16, 16, 512)  2048        conv5_block3_1_conv[0][0]        \n",
            "__________________________________________________________________________________________________\n",
            "conv5_block3_1_relu (Activation (None, 16, 16, 512)  0           conv5_block3_1_bn[0][0]          \n",
            "__________________________________________________________________________________________________\n",
            "conv5_block3_2_conv (Conv2D)    (None, 16, 16, 512)  2359808     conv5_block3_1_relu[0][0]        \n",
            "__________________________________________________________________________________________________\n",
            "conv5_block3_2_bn (BatchNormali (None, 16, 16, 512)  2048        conv5_block3_2_conv[0][0]        \n",
            "__________________________________________________________________________________________________\n",
            "conv5_block3_2_relu (Activation (None, 16, 16, 512)  0           conv5_block3_2_bn[0][0]          \n",
            "__________________________________________________________________________________________________\n",
            "conv5_block3_3_conv (Conv2D)    (None, 16, 16, 2048) 1050624     conv5_block3_2_relu[0][0]        \n",
            "__________________________________________________________________________________________________\n",
            "conv5_block3_3_bn (BatchNormali (None, 16, 16, 2048) 8192        conv5_block3_3_conv[0][0]        \n",
            "__________________________________________________________________________________________________\n",
            "conv5_block3_add (Add)          (None, 16, 16, 2048) 0           conv5_block2_out[0][0]           \n",
            "                                                                 conv5_block3_3_bn[0][0]          \n",
            "__________________________________________________________________________________________________\n",
            "conv5_block3_out (Activation)   (None, 16, 16, 2048) 0           conv5_block3_add[0][0]           \n",
            "__________________________________________________________________________________________________\n",
            "global_average_pooling2d (Globa (None, 2048)         0           conv5_block3_out[0][0]           \n",
            "__________________________________________________________________________________________________\n",
            "dense (Dense)                   (None, 4)            8196        global_average_pooling2d[0][0]   \n",
            "__________________________________________________________________________________________________\n",
            "independent_normal (Independent ((None, 2), (None, 2 0           dense[0][0]                      \n",
            "==================================================================================================\n",
            "Total params: 23,595,908\n",
            "Trainable params: 23,542,788\n",
            "Non-trainable params: 53,120\n",
            "__________________________________________________________________________________________________\n",
            "Epoch 1/20\n",
            "12/12 [==============================] - ETA: 0s - loss: 0.0953 - accuracy: 0.5747\n",
            "Epoch 00001: val_accuracy improved from -inf to 0.57447, saving model to best_weights.hdf5\n",
            "12/12 [==============================] - 13s 1s/step - loss: 0.0953 - accuracy: 0.5747 - val_loss: 0.3301 - val_accuracy: 0.5745\n",
            "Epoch 2/20\n",
            "12/12 [==============================] - ETA: 0s - loss: 0.0964 - accuracy: 0.5520\n",
            "Epoch 00002: val_accuracy did not improve from 0.57447\n",
            "12/12 [==============================] - 10s 810ms/step - loss: 0.0964 - accuracy: 0.5520 - val_loss: 0.2541 - val_accuracy: 0.4681\n",
            "Epoch 3/20\n",
            "12/12 [==============================] - ETA: 0s - loss: 0.0828 - accuracy: 0.6018\n",
            "Epoch 00003: val_accuracy did not improve from 0.57447\n",
            "12/12 [==============================] - 10s 809ms/step - loss: 0.0828 - accuracy: 0.6018 - val_loss: 0.2601 - val_accuracy: 0.4894\n",
            "Epoch 4/20\n",
            "12/12 [==============================] - ETA: 0s - loss: 0.0561 - accuracy: 0.6968\n",
            "Epoch 00004: val_accuracy did not improve from 0.57447\n",
            "12/12 [==============================] - 10s 817ms/step - loss: 0.0561 - accuracy: 0.6968 - val_loss: 0.3015 - val_accuracy: 0.4894\n",
            "Epoch 5/20\n",
            "12/12 [==============================] - ETA: 0s - loss: 0.0630 - accuracy: 0.6652\n",
            "Epoch 00005: val_accuracy did not improve from 0.57447\n",
            "12/12 [==============================] - 10s 811ms/step - loss: 0.0630 - accuracy: 0.6652 - val_loss: 0.3306 - val_accuracy: 0.5426\n",
            "Epoch 6/20\n",
            "12/12 [==============================] - ETA: 0s - loss: 0.0729 - accuracy: 0.6154\n",
            "Epoch 00006: val_accuracy did not improve from 0.57447\n",
            "12/12 [==============================] - 10s 814ms/step - loss: 0.0729 - accuracy: 0.6154 - val_loss: 0.3444 - val_accuracy: 0.5213\n",
            "Epoch 7/20\n",
            "12/12 [==============================] - ETA: 0s - loss: 0.0542 - accuracy: 0.7059\n",
            "Epoch 00007: val_accuracy did not improve from 0.57447\n",
            "12/12 [==============================] - 10s 819ms/step - loss: 0.0542 - accuracy: 0.7059 - val_loss: 0.8517 - val_accuracy: 0.5213\n",
            "Epoch 8/20\n",
            "12/12 [==============================] - ETA: 0s - loss: 0.0893 - accuracy: 0.7195\n",
            "Epoch 00008: val_accuracy did not improve from 0.57447\n",
            "12/12 [==============================] - 10s 812ms/step - loss: 0.0893 - accuracy: 0.7195 - val_loss: 0.4298 - val_accuracy: 0.5213\n",
            "Epoch 9/20\n",
            "12/12 [==============================] - ETA: 0s - loss: 0.0509 - accuracy: 0.7149\n",
            "Epoch 00009: val_accuracy did not improve from 0.57447\n",
            "12/12 [==============================] - 10s 813ms/step - loss: 0.0509 - accuracy: 0.7149 - val_loss: 0.3252 - val_accuracy: 0.4362\n",
            "Epoch 10/20\n",
            "12/12 [==============================] - ETA: 0s - loss: 0.1992 - accuracy: 0.5566\n",
            "Epoch 00010: val_accuracy did not improve from 0.57447\n",
            "12/12 [==============================] - 10s 808ms/step - loss: 0.1992 - accuracy: 0.5566 - val_loss: 0.2726 - val_accuracy: 0.4894\n",
            "Epoch 11/20\n",
            "12/12 [==============================] - ETA: 0s - loss: 0.0784 - accuracy: 0.5973\n",
            "Epoch 00011: val_accuracy did not improve from 0.57447\n",
            "12/12 [==============================] - 10s 814ms/step - loss: 0.0784 - accuracy: 0.5973 - val_loss: 0.4132 - val_accuracy: 0.4787\n",
            "Epoch 12/20\n",
            "12/12 [==============================] - ETA: 0s - loss: 0.1703 - accuracy: 0.6290\n",
            "Epoch 00012: val_accuracy did not improve from 0.57447\n",
            "12/12 [==============================] - 10s 811ms/step - loss: 0.1703 - accuracy: 0.6290 - val_loss: 0.3481 - val_accuracy: 0.4894\n",
            "Epoch 13/20\n",
            "12/12 [==============================] - ETA: 0s - loss: 0.0866 - accuracy: 0.5837\n",
            "Epoch 00013: val_accuracy did not improve from 0.57447\n",
            "12/12 [==============================] - 10s 812ms/step - loss: 0.0866 - accuracy: 0.5837 - val_loss: 0.3729 - val_accuracy: 0.5319\n",
            "Epoch 14/20\n",
            "12/12 [==============================] - ETA: 0s - loss: 0.0723 - accuracy: 0.6109\n",
            "Epoch 00014: val_accuracy did not improve from 0.57447\n",
            "12/12 [==============================] - 10s 808ms/step - loss: 0.0723 - accuracy: 0.6109 - val_loss: 0.2795 - val_accuracy: 0.4787\n",
            "Epoch 15/20\n",
            "12/12 [==============================] - ETA: 0s - loss: 0.1020 - accuracy: 0.5656\n",
            "Epoch 00015: val_accuracy did not improve from 0.57447\n",
            "12/12 [==============================] - 10s 812ms/step - loss: 0.1020 - accuracy: 0.5656 - val_loss: 0.3231 - val_accuracy: 0.4468\n",
            "Epoch 16/20\n",
            "12/12 [==============================] - ETA: 0s - loss: 0.0777 - accuracy: 0.5882\n",
            "Epoch 00016: val_accuracy improved from 0.57447 to 0.58511, saving model to best_weights.hdf5\n",
            "12/12 [==============================] - 10s 851ms/step - loss: 0.0777 - accuracy: 0.5882 - val_loss: 0.3098 - val_accuracy: 0.5851\n",
            "Epoch 17/20\n",
            "12/12 [==============================] - ETA: 0s - loss: 0.0698 - accuracy: 0.5837\n",
            "Epoch 00017: val_accuracy did not improve from 0.58511\n",
            "12/12 [==============================] - 10s 812ms/step - loss: 0.0698 - accuracy: 0.5837 - val_loss: 0.3110 - val_accuracy: 0.5106\n",
            "Epoch 18/20\n",
            "12/12 [==============================] - ETA: 0s - loss: 0.0611 - accuracy: 0.7104\n",
            "Epoch 00018: val_accuracy improved from 0.58511 to 0.63830, saving model to best_weights.hdf5\n",
            "12/12 [==============================] - 10s 853ms/step - loss: 0.0611 - accuracy: 0.7104 - val_loss: 0.2680 - val_accuracy: 0.6383\n",
            "Epoch 19/20\n",
            "12/12 [==============================] - ETA: 0s - loss: 0.0463 - accuracy: 0.7421\n",
            "Epoch 00019: val_accuracy did not improve from 0.63830\n",
            "12/12 [==============================] - 10s 813ms/step - loss: 0.0463 - accuracy: 0.7421 - val_loss: 0.3838 - val_accuracy: 0.4574\n",
            "Epoch 20/20\n",
            "12/12 [==============================] - ETA: 0s - loss: 0.0506 - accuracy: 0.6833\n",
            "Epoch 00020: val_accuracy did not improve from 0.63830\n",
            "12/12 [==============================] - 10s 813ms/step - loss: 0.0506 - accuracy: 0.6833 - val_loss: 0.3182 - val_accuracy: 0.4787\n"
          ],
          "name": "stdout"
        }
      ]
    },
    {
      "cell_type": "code",
      "metadata": {
        "id": "SpQcgqLoyF5P",
        "colab_type": "code",
        "colab": {
          "base_uri": "https://localhost:8080/",
          "height": 1000
        },
        "outputId": "6cb207fb-710a-4416-b15b-4562e72ffae1"
      },
      "source": [
        "def map_to_180(ang_norm):\n",
        "  angle = ang_norm*180\n",
        "  return angle\n",
        "\n",
        "predictions = model.predict(validation_ds)\n",
        "predictions = map_to_180(predictions)\n",
        "predictions = esf_to_cart(predictions)\n",
        "print(predictions)"
      ],
      "execution_count": null,
      "outputs": [
        {
          "output_type": "stream",
          "text": [
            "[[-0.04154552 -0.044577    0.99814171]\n",
            " [-0.58979005  0.72209692  0.36155736]\n",
            " [ 0.11712107 -0.693183    0.71118206]\n",
            " [ 0.00490692  0.17468658 -0.98461187]\n",
            " [ 0.53416824 -0.31767964 -0.78341806]\n",
            " [ 0.49245813  0.21649265  0.84298038]\n",
            " [ 0.31157938  0.94969589  0.03155943]\n",
            " [ 0.58661449  0.79916924  0.13119446]\n",
            " [ 0.25042629 -0.92657232  0.28062513]\n",
            " [-0.01990062  0.35549685  0.93446559]\n",
            " [ 0.05980782  0.04921532  0.99699593]\n",
            " [-0.18927599  0.68194568  0.70648754]\n",
            " [-0.1535877   0.04068981  0.98729688]\n",
            " [ 0.36388385  0.92894739 -0.06815646]\n",
            " [-0.16443828 -0.44599077  0.87980241]\n",
            " [ 0.57590377  0.17364721  0.79886264]\n",
            " [ 0.10200475  0.45094529  0.88670367]\n",
            " [ 0.70103991  0.70819467 -0.08368568]\n",
            " [ 0.35884398  0.34519064  0.86722225]\n",
            " [ 0.62237412 -0.18135813  0.76141953]\n",
            " [ 0.42261532  0.80669206  0.41309109]\n",
            " [-0.3955875  -0.16835733 -0.90286565]\n",
            " [-0.32433954  0.89032131  0.31958047]\n",
            " [-0.28468779 -0.09723258  0.9536764 ]\n",
            " [-0.0282782   0.08044753  0.99635762]\n",
            " [ 0.67356962  0.42755094 -0.60291296]\n",
            " [-0.08605491 -0.14874825 -0.98512357]\n",
            " [-0.71752125 -0.4283962  -0.54921764]\n",
            " [-0.29271042  0.0274647  -0.95580661]\n",
            " [-0.11422276  0.09909517  0.98850054]\n",
            " [ 0.83740121  0.54656738 -0.00483229]\n",
            " [-0.76470917 -0.04807318 -0.64257973]\n",
            " [ 0.09533532 -0.81809527 -0.56712544]\n",
            " [-0.58648676  0.67182636 -0.45241854]\n",
            " [ 0.58144546 -0.81256837  0.04066712]\n",
            " [-0.01469579 -0.80372947  0.59481341]\n",
            " [ 0.21097855  0.2433545   0.94671363]\n",
            " [ 0.98416293  0.11746207  0.132763  ]\n",
            " [ 0.44246584 -0.12897362  0.88746256]\n",
            " [ 0.36583275 -0.76143336 -0.53515017]\n",
            " [ 0.57467514  0.5624907  -0.59443474]\n",
            " [ 0.86837453  0.49411112  0.04218883]\n",
            " [-0.26889905  0.94860667  0.16684924]\n",
            " [ 0.35180873  0.91233647 -0.20945835]\n",
            " [ 0.54518831 -0.83161575  0.10575896]\n",
            " [-0.54373735 -0.00719507  0.83922458]\n",
            " [-0.44615984 -0.78618544 -0.42761412]\n",
            " [ 0.72885567 -0.13919176  0.67036939]\n",
            " [-0.85885262  0.33856884 -0.38437378]\n",
            " [-0.2264336  -0.17006813  0.95906448]\n",
            " [ 0.86598068  0.41577044  0.27787131]\n",
            " [ 0.67980891  0.4308553   0.59348428]\n",
            " [-0.00693827 -0.55456311 -0.83211273]\n",
            " [ 0.12862502  0.46718889 -0.87475151]\n",
            " [ 0.73220468  0.59441042 -0.33249441]\n",
            " [ 0.11349705  0.96051693  0.25401908]\n",
            " [ 0.0183638   0.00993766 -0.99978197]\n",
            " [ 0.49399093 -0.02608684 -0.8690756 ]\n",
            " [ 0.57799679 -0.75319654 -0.3140299 ]\n",
            " [-0.00206364  0.00111151  0.99999726]\n",
            " [ 0.66697687 -0.0727533   0.7415179 ]\n",
            " [ 0.34656149  0.58429843  0.73381913]\n",
            " [ 0.46735168 -0.84509963  0.25959405]\n",
            " [-0.42143607 -0.54278177  0.72648442]\n",
            " [ 0.1626495  -0.38092753  0.91018647]\n",
            " [ 0.33363     0.87389094 -0.35356134]\n",
            " [-0.88972336  0.30659333 -0.33822009]\n",
            " [-0.19023903  0.96834123 -0.16163044]\n",
            " [ 0.64272028 -0.21300034  0.73589504]\n",
            " [-0.69646311 -0.28049731  0.66050011]\n",
            " [ 0.27737272 -0.75389212  0.59557623]\n",
            " [ 0.51376778 -0.04922791  0.85651577]\n",
            " [-0.00835249 -0.74995011 -0.66144168]\n",
            " [-0.25027159 -0.87062055 -0.42353752]\n",
            " [-0.34765494 -0.59508371  0.72457665]\n",
            " [ 0.68246669 -0.63107187  0.36876488]\n",
            " [ 0.14267161 -0.08070125 -0.98647457]\n",
            " [ 0.07917385  0.55453521  0.82838529]\n",
            " [ 0.36207995 -0.41327268  0.83552605]\n",
            " [-0.05941616  0.77602094 -0.62790221]\n",
            " [-0.04852068  0.68746161  0.72459799]\n",
            " [-0.18292232  0.94272429 -0.278945  ]\n",
            " [ 0.97182834  0.09457067 -0.21588455]\n",
            " [-0.35530221 -0.86213374 -0.36122808]\n",
            " [ 0.49102977  0.35266057  0.7965678 ]\n",
            " [-0.68005252 -0.5126372   0.52414852]\n",
            " [ 0.61806101  0.49882436  0.60759759]\n",
            " [-0.19656265  0.32919443  0.92357683]\n",
            " [ 0.54367858 -0.39141247  0.7424351 ]\n",
            " [ 0.10243767 -0.06296135  0.99274486]\n",
            " [ 0.60092139  0.01333409  0.7991969 ]\n",
            " [ 0.26675123 -0.91847742  0.29196396]\n",
            " [-0.3518075   0.9217881   0.16290569]\n",
            " [ 0.059062   -0.09775231  0.99345666]]\n"
          ],
          "name": "stdout"
        }
      ]
    }
  ]
}