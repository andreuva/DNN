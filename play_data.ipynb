{
 "cells": [
  {
   "cell_type": "code",
   "execution_count": null,
   "metadata": {},
   "outputs": [],
   "source": [
    "import os\n",
    "from classification_models.tfkeras import Classifiers\n",
    "\n",
    "ResNet34, preprocess_input = Classifiers.get('resnet34')"
   ]
  },
  {
   "cell_type": "code",
   "execution_count": 2,
   "metadata": {},
   "outputs": [
    {
     "data": {
      "text/plain": [
       "ERROR: Failed to launch TensorBoard (exited with 255).\n",
       "Contents of stderr:\n",
       "E0714 09:07:32.289144 140375052138304 program.py:311] TensorBoard could not bind to port 6006, it was already in use\n",
       "ERROR: TensorBoard could not bind to port 6006, it was already in use"
      ]
     },
     "metadata": {},
     "output_type": "display_data"
    }
   ],
   "source": [
    "log_dir = \"logs/\"\n",
    "os.makedirs(log_dir, exist_ok=True)\n",
    "\n",
    "%reload_ext tensorboard\n",
    "%tensorboard --logdir {log_dir} --reload_multifile True --host 0.0.0.0 --port 6006"
   ]
  },
  {
   "cell_type": "code",
   "execution_count": 3,
   "metadata": {},
   "outputs": [],
   "source": [
    "# Run only for training!\n",
    "import glob\n",
    "import math\n",
    "import datetime\n",
    "import numpy as np\n",
    "import tensorflow as tf\n",
    "\n",
    "# Change parameters here...\n",
    "data_dir = '../data/' # Change\n",
    "sizex = 500\n",
    "sizey = 500\n",
    "sizez = 3\n",
    "batch_size = 32\n",
    "nb_epochs = 50\n",
    "validation_ratio = 0.3"
   ]
  },
  {
   "cell_type": "code",
   "execution_count": 4,
   "metadata": {},
   "outputs": [],
   "source": [
    "# Collect all the .npz files\n",
    "numpy_datasets = glob.glob(data_dir+'dataset*')"
   ]
  },
  {
   "cell_type": "code",
   "execution_count": 5,
   "metadata": {},
   "outputs": [],
   "source": [
    "# METHOD 1: (first 4 files)\n",
    "# load the data into numpy arrays from npz files:\n",
    "for dataset in numpy_datasets[:4]:\n",
    "    try:\n",
    "        with np.load(dataset) as data:\n",
    "            x_dust   = np.append( x_dust, data['x_dust'],axis=0)\n",
    "            x_nodust = np.append( x_nodust, data['x_nodust'],axis=0)\n",
    "            y        = np.append( y, data['y'],axis=0)\n",
    "            ids      = np.append( ids, data['id'],axis=0)\n",
    "    except:\n",
    "        with np.load(dataset) as data:\n",
    "            x_dust   = data['x_dust']\n",
    "            x_nodust = data['x_nodust']\n",
    "            y        = data['y']\n",
    "            ids      = data['id']"
   ]
  },
  {
   "cell_type": "code",
   "execution_count": 6,
   "metadata": {},
   "outputs": [],
   "source": [
    "# METHOD 2: (first 4 files)\n",
    "# load the data into a dictionary from npz files\n",
    "data_dict = {}\n",
    "for dataset in numpy_datasets[:4]:\n",
    "    with np.load(dataset) as data:\n",
    "        if 'x_dust' in data_dict.keys():\n",
    "            data_dict['x_dust']   = np.append( data_dict['x_dust'], data['x_dust'],axis=0)\n",
    "            data_dict['x_nodust'] = np.append( data_dict['x_nodust'], data['x_nodust'],axis=0)\n",
    "            data_dict['y']        = np.append( data_dict['y'], data['y'],axis=0)\n",
    "            data_dict['ids']      = np.append( data_dict['ids'], data['id'],axis=0)\n",
    "        else:\n",
    "            data_dict['x_dust']   = data['x_dust']\n",
    "            data_dict['x_nodust'] = data['x_nodust']\n",
    "            data_dict['y']        = data['y']\n",
    "            data_dict['ids']      = data['id']"
   ]
  },
  {
   "cell_type": "code",
   "execution_count": 7,
   "metadata": {},
   "outputs": [
    {
     "data": {
      "text/plain": [
       "(100, 500, 500, 3)"
      ]
     },
     "execution_count": 7,
     "metadata": {},
     "output_type": "execute_result"
    }
   ],
   "source": [
    "# check the sahpe of the array (100 images of 500x500x3 = 4 files of 25 images)\n",
    "x_dust.shape"
   ]
  },
  {
   "cell_type": "code",
   "execution_count": 8,
   "metadata": {},
   "outputs": [
    {
     "data": {
      "text/plain": [
       "(100, 500, 500, 3)"
      ]
     },
     "execution_count": 8,
     "metadata": {},
     "output_type": "execute_result"
    }
   ],
   "source": [
    "# check the shape of the dictionary (100 images of 500x500x3 = 4 files of 25 images)\n",
    "data_dict['x_dust'].shape"
   ]
  },
  {
   "cell_type": "code",
   "execution_count": 9,
   "metadata": {},
   "outputs": [
    {
     "name": "stdout",
     "output_type": "stream",
     "text": [
      "<TensorSliceDataset shapes: {x_dust: (500, 500, 3), x_nodust: (500, 500, 3), y: (3,), ids: ()}, types: {x_dust: tf.float64, x_nodust: tf.float64, y: tf.float64, ids: tf.string}>\n"
     ]
    }
   ],
   "source": [
    "# create the dataset from the dictionary and see the size and type\n",
    "dataset = tf.data.Dataset.from_tensor_slices(data_dict)\n",
    "print(dataset)"
   ]
  },
  {
   "cell_type": "code",
   "execution_count": 10,
   "metadata": {},
   "outputs": [],
   "source": [
    "# separate in batches and shuffle the data with a fixed seed\n",
    "dataset = dataset.batch(batch_size)\n",
    "dataset = dataset.shuffle(10, seed=123)\n",
    "AUTO = tf.data.experimental.AUTOTUNE"
   ]
  },
  {
   "cell_type": "code",
   "execution_count": 3,
   "metadata": {},
   "outputs": [],
   "source": [
    "# Build model\n",
    "base_model = ResNet34(input_shape=(sizey,sizex,3), weights='imagenet', include_top=False)\n",
    "\n",
    "# TODO: Only retrain the last X layers (e.g. last 30)\n",
    "#for l in base_model.layers[:-30]:\n",
    "#    l.trainable = False\n",
    "#for layer in base_model.layers:\n",
    "#    print(layer, layer.trainable)\n",
    "\n",
    "x = tf.keras.layers.GlobalAveragePooling2D()(base_model.output)\n",
    "output = tf.keras.layers.Dense(3, activation='softmax')(x)\n",
    "model = tf.keras.models.Model(inputs=[base_model.input], outputs=[output])\n",
    "\n",
    "# Use existing best weights if available...\n",
    "snapshot_weights = 'best_weights.hdf5'\n",
    "if os.path.isfile(snapshot_weights):\n",
    "    model.load_weights(snapshot_weights)\n",
    "\n",
    "\n",
    "model.compile(optimizer='SGD', loss='categorical_crossentropy', metrics=['accuracy'])\n",
    "\n",
    "# For tensorboard\n",
    "log_dir_s = log_dir + datetime.datetime.now().strftime(\"%Y%m%d-%H%M%S\")\n",
    "os.makedirs(log_dir_s, exist_ok=True)\n",
    "tensorboard_callback = tf.keras.callbacks.TensorBoard(log_dir=log_dir_s, histogram_freq=1, update_freq='batch', profile_batch=0)\n",
    "\n",
    "# Checkpointing\n",
    "checkpointer = tf.keras.callbacks.ModelCheckpoint(filepath=snapshot_weights,\n",
    "                               monitor='val_accuracy',\n",
    "                               verbose=1,\n",
    "                               save_best_only=True)\n",
    "\n",
    "callbacks = [\n",
    "    tensorboard_callback,\n",
    "    checkpointer\n",
    "]\n",
    "\n",
    "model.fit(\n",
    "    train_ds_aug,\n",
    "    validation_data = validation_ds,\n",
    "    epochs = nb_epochs,\n",
    "    callbacks = callbacks,\n",
    "    class_weight=class_weight)\n",
    "\n",
    "model.save('trained.h5') # Not really needed as we have the weights already"
   ]
  }
 ],
 "metadata": {
  "kernelspec": {
   "display_name": "Python 3",
   "language": "python",
   "name": "python3"
  },
  "language_info": {
   "codemirror_mode": {
    "name": "ipython",
    "version": 3
   },
   "file_extension": ".py",
   "mimetype": "text/x-python",
   "name": "python",
   "nbconvert_exporter": "python",
   "pygments_lexer": "ipython3",
   "version": "3.8.3"
  }
 },
 "nbformat": 4,
 "nbformat_minor": 4
}
