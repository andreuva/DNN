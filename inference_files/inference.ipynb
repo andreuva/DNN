{
 "cells": [
  {
   "cell_type": "code",
   "execution_count": 1,
   "metadata": {},
   "outputs": [],
   "source": [
    "from tensorflow.keras.models import model_from_json\n",
    "import tensorflow as tf\n",
    "import numpy as np\n",
    "import os\n",
    "\n",
    "json_name = 'model_xy_SGD_filter_steped_lr.json'\n",
    "weights_name = \"trained_xy_SGD_filter_steped_lr.h5\"\n",
    "data_name = \"dataset_2_30.p.npz\""
   ]
  },
  {
   "cell_type": "code",
   "execution_count": 2,
   "metadata": {},
   "outputs": [
    {
     "name": "stdout",
     "output_type": "stream",
     "text": [
      "Loaded model from disk\n"
     ]
    }
   ],
   "source": [
    "# load json and create model\n",
    "json_file = open(json_name, 'r')\n",
    "loaded_model_json = json_file.read()\n",
    "json_file.close()\n",
    "model = model_from_json(loaded_model_json)\n",
    "# load weights into new model\n",
    "model.load_weights(weights_name)\n",
    "print(\"Loaded model from disk\")\n",
    " \n",
    "cossim = lambda y, p_y: -1*tf.keras.backend.abs(tf.keras.losses.cosine_similarity(y, p_y))\n",
    "model.compile(optimizer= 'SGD', loss=cossim, metrics=[\n",
    "                        tf.keras.metrics.mean_squared_error, \n",
    "                        tf.keras.metrics.mean_absolute_error, \n",
    "                        tf.keras.metrics.mean_absolute_percentage_error])"
   ]
  },
  {
   "cell_type": "code",
   "execution_count": 3,
   "metadata": {},
   "outputs": [],
   "source": [
    "#load the data to do the inference\n",
    "dataset = np.load(data_name)"
   ]
  },
  {
   "cell_type": "code",
   "execution_count": 4,
   "metadata": {},
   "outputs": [],
   "source": [
    "# taking samples from the dataset and evaluating the model\n",
    "images, labels = dataset['x_nodust'], dataset['y']\n",
    "outputs = model.predict(images)"
   ]
  },
  {
   "cell_type": "code",
   "execution_count": 5,
   "metadata": {},
   "outputs": [
    {
     "name": "stdout",
     "output_type": "stream",
     "text": [
      "predicted vectors for the input images:  [[-0.1855695  -0.14145851]\n",
      " [-0.205477   -0.14161739]\n",
      " [-0.18771853 -0.1226479 ]\n",
      " [-0.21856388 -0.10327175]\n",
      " [-0.18455157 -0.15765607]\n",
      " [-0.16867873  0.19985613]\n",
      " [-0.10636687  0.14773285]\n",
      " [-0.14105192  0.09138169]\n",
      " [-0.11173204 -0.13328835]\n",
      " [-0.16518772 -0.02546849]\n",
      " [-0.1856084  -0.13443787]\n",
      " [-0.1691139  -0.1116603 ]\n",
      " [-0.18155873 -0.13091251]\n",
      " [-0.17335525 -0.13167876]\n",
      " [-0.16365068 -0.1061362 ]\n",
      " [-0.1747665  -0.11167107]\n",
      " [-0.17850575 -0.1324788 ]\n",
      " [-0.18370944 -0.12163985]\n",
      " [-0.19696182 -0.12911454]\n",
      " [-0.16934031 -0.13128212]\n",
      " [-0.17161205 -0.13791454]\n",
      " [-0.19018666 -0.10968942]\n",
      " [-0.17575242 -0.14857084]\n",
      " [-0.19225292 -0.13276991]\n",
      " [-0.19741005 -0.13948628]]\n"
     ]
    }
   ],
   "source": [
    "print('predicted vectors for the input images: ',outputs)"
   ]
  },
  {
   "cell_type": "code",
   "execution_count": 6,
   "metadata": {},
   "outputs": [
    {
     "name": "stdout",
     "output_type": "stream",
     "text": [
      "making images with labels and predictions\n"
     ]
    }
   ],
   "source": [
    "print('making images with labels and predictions')"
   ]
  },
  {
   "cell_type": "code",
   "execution_count": 13,
   "metadata": {},
   "outputs": [],
   "source": [
    "# functions to visualice the data \n",
    "import matplotlib.pyplot as plt\n",
    "\n",
    "def viz(img, label, pred=np.array([0,0,0]), save_path=None, show=True):\n",
    "    fig, ax = plt.subplots(figsize=(5,5))\n",
    "    im = ax.imshow(img, cmap='gray', vmin=0, vmax=255,origin='lower')\n",
    "    ax.arrow(250,250,100*label[0],100*label[1], head_width=7, head_length=10, fc='g', ec='g')\n",
    "    if np.sum(np.abs(pred)) > 0: ax.arrow(250,250,100*pred[0],100*pred[1], head_width=7, head_length=10, fc='r', ec='r')\n",
    "    if save_path: plt.savefig(save_path)\n",
    "    if show:\n",
    "        plt.show()\n",
    "    else:\n",
    "        plt.clf()\n",
    "        plt.close()"
   ]
  },
  {
   "cell_type": "code",
   "execution_count": 14,
   "metadata": {},
   "outputs": [
    {
     "name": "stderr",
     "output_type": "stream",
     "text": [
      "25it [00:03,  6.94it/s]\n"
     ]
    }
   ],
   "source": [
    "from tqdm import tqdm\n",
    "\n",
    "for image,label,prediction,i in tqdm(zip(images,labels,outputs,range(len(outputs)))):\n",
    "    viz(image, label, prediction, save_path='predictions/'+str(100+i)+'.png', show=False)"
   ]
  }
 ],
 "metadata": {
  "kernelspec": {
   "display_name": "Python 3",
   "language": "python",
   "name": "python3"
  },
  "language_info": {
   "codemirror_mode": {
    "name": "ipython",
    "version": 3
   },
   "file_extension": ".py",
   "mimetype": "text/x-python",
   "name": "python",
   "nbconvert_exporter": "python",
   "pygments_lexer": "ipython3",
   "version": "3.8.3"
  }
 },
 "nbformat": 4,
 "nbformat_minor": 4
}
