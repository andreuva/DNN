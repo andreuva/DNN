{
 "cells": [
  {
   "cell_type": "code",
   "execution_count": 1,
   "metadata": {},
   "outputs": [],
   "source": [
    "# Import the needed modules\n",
    "from tensorflow.keras.models import model_from_json\n",
    "from tensorflow.python.keras.utils import losses_utils\n",
    "import matplotlib.pyplot as plt\n",
    "import tensorflow as tf\n",
    "import numpy as np\n",
    "import os, glob, tqdm"
   ]
  },
  {
   "cell_type": "code",
   "execution_count": 2,
   "metadata": {},
   "outputs": [],
   "source": [
    "# define the model fiile, the weights file and the data file\n",
    "json_name = glob.glob('*model*')[-1]\n",
    "weights_name = glob.glob('*.h*')[-1]\n",
    "data_name = glob.glob('*data*')[-1]\n",
    "output_dir = 'outputs'"
   ]
  },
  {
   "cell_type": "code",
   "execution_count": 3,
   "metadata": {},
   "outputs": [
    {
     "name": "stdout",
     "output_type": "stream",
     "text": [
      "Loaded model from alexnet_bs128_model_xy_SGD_gpu.json\n",
      "Loaded weights from alexnet_bs128_trained_xy_SGD_gpu.h5\n"
     ]
    }
   ],
   "source": [
    "# load json and create model\n",
    "json_file = open(json_name, 'r')\n",
    "loaded_model_json = json_file.read()\n",
    "json_file.close()\n",
    "model = model_from_json(loaded_model_json)\n",
    "print(\"Loaded model from \" + json_name)\n",
    "# load weights into new model\n",
    "model.load_weights(weights_name)\n",
    "print(\"Loaded weights from \" + weights_name)\n",
    " \n",
    "# Define the custom loss function from the cosine similarity impleted in tensorflow\n",
    "class myCosineSimilarity(tf.keras.losses.Loss):\n",
    "    def __init__(self,\n",
    "               axis=-1,\n",
    "               reduction=losses_utils.ReductionV2.AUTO,\n",
    "               name='myCosineSimilarity'):\n",
    "        super(myCosineSimilarity, self).__init__(reduction=reduction, name=name)\n",
    "        self._axis = axis\n",
    "    \n",
    "    def call(self, y_true, y_pred):\n",
    "        cossim = lambda y, p_y: -1*tf.keras.backend.abs(tf.keras.losses.cosine_similarity(y, p_y, axis=self._axis))\n",
    "        return cossim(y_true, y_pred)\n",
    "    \n",
    "# Compile the model specifying the optimazer (sgd) and the custom loss function and other metrics\n",
    "model.compile(optimizer= tf.keras.optimizers.SGD(),\n",
    "              loss= myCosineSimilarity(),\n",
    "              metrics=[tf.keras.losses.cosine_similarity,\n",
    "                       tf.keras.metrics.mean_absolute_error,])"
   ]
  },
  {
   "cell_type": "code",
   "execution_count": 4,
   "metadata": {},
   "outputs": [],
   "source": [
    "#load the data to do the inference\n",
    "dataset = np.load(data_name)"
   ]
  },
  {
   "cell_type": "code",
   "execution_count": 5,
   "metadata": {},
   "outputs": [],
   "source": [
    "# taking samples from the dataset and evaluating the model\n",
    "images, labels = dataset['x_nodust'][:10], dataset['y'][:10]\n",
    "outputs = model.predict(images)"
   ]
  },
  {
   "cell_type": "code",
   "execution_count": 6,
   "metadata": {},
   "outputs": [
    {
     "name": "stdout",
     "output_type": "stream",
     "text": [
      "[[0.05584753 0.9441525 ]\n",
      " [0.05938413 0.9406159 ]\n",
      " [0.06921571 0.9307843 ]\n",
      " [0.07605577 0.92394423]\n",
      " [0.06151557 0.9384844 ]\n",
      " [0.03242862 0.9675714 ]\n",
      " [0.032158   0.967842  ]\n",
      " [0.03008834 0.9699117 ]\n",
      " [0.03551364 0.9644863 ]\n",
      " [0.02892098 0.97107905]]\n"
     ]
    }
   ],
   "source": [
    "print(outputs)"
   ]
  },
  {
   "cell_type": "code",
   "execution_count": 7,
   "metadata": {},
   "outputs": [],
   "source": [
    "# function to save the images with the predictions and labels\n",
    "def viz(img, pred, id='pred', label=np.array([0,0,0]), verbose=False):\n",
    "    fig, ax = plt.subplots(figsize=(5,5))\n",
    "    im = ax.imshow(img, cmap='gray', vmin=0, vmax=255,origin='lower')\n",
    "    \n",
    "    if np.sum(np.abs(label)) > 0: ax.arrow(250,250,100*label[0],100*label[1], head_width=7, head_length=10, fc='g', ec='g')\n",
    "    ax.arrow(250,250,100*pred[0],100*pred[1], head_width=7, head_length=10, fc='r', ec='r')\n",
    "    \n",
    "    if verbose:\n",
    "        if np.sum(np.abs(label)) > 0: print(f\"label (x,y): ({label})\")\n",
    "        print(f\"prediction (x,y): ({pred})\")\n",
    "        print(f\"saved image with name: {id}.png\")\n",
    "    plt.savefig(str(id)+'.png')\n",
    "    plt.close()"
   ]
  },
  {
   "cell_type": "code",
   "execution_count": 8,
   "metadata": {},
   "outputs": [
    {
     "name": "stdout",
     "output_type": "stream",
     "text": [
      "saving images to :outputs\n"
     ]
    }
   ],
   "source": [
    "os.makedirs(output_dir, exist_ok=True)\n",
    "print('saving images to :' + output_dir)"
   ]
  },
  {
   "cell_type": "code",
   "execution_count": 9,
   "metadata": {},
   "outputs": [
    {
     "name": "stderr",
     "output_type": "stream",
     "text": [
      "10it [00:01,  9.98it/s]\n"
     ]
    }
   ],
   "source": [
    "for image, output, label, i in tqdm.tqdm(zip(images, outputs, labels, range(10))):\n",
    "    viz(image, output, output_dir+'/'+str(i) , label)"
   ]
  }
 ],
 "metadata": {
  "kernelspec": {
   "display_name": "Python 3",
   "language": "python",
   "name": "python3"
  },
  "language_info": {
   "codemirror_mode": {
    "name": "ipython",
    "version": 3
   },
   "file_extension": ".py",
   "mimetype": "text/x-python",
   "name": "python",
   "nbconvert_exporter": "python",
   "pygments_lexer": "ipython3",
   "version": "3.8.3"
  }
 },
 "nbformat": 4,
 "nbformat_minor": 4
}
