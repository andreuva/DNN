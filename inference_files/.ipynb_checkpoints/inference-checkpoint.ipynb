{
 "cells": [
  {
   "cell_type": "code",
   "execution_count": 1,
   "metadata": {},
   "outputs": [],
   "source": [
    "from tensorflow.keras.models import model_from_json\n",
    "import tensorflow as tf\n",
    "import numpy as np\n",
    "import os\n",
    "\n",
    "json_name = 'model_xy_test250_SGD_cosine.json'\n",
    "weights_name = \"trained_xy_test250_SGD_cosine.h5\"\n",
    "data_name = \"dataset_2_30.p.npz\""
   ]
  },
  {
   "cell_type": "code",
   "execution_count": 2,
   "metadata": {},
   "outputs": [
    {
     "name": "stdout",
     "output_type": "stream",
     "text": [
      "Loaded model from disk\n"
     ]
    }
   ],
   "source": [
    "# load json and create model\n",
    "json_file = open(json_name, 'r')\n",
    "loaded_model_json = json_file.read()\n",
    "json_file.close()\n",
    "model = model_from_json(loaded_model_json)\n",
    "# load weights into new model\n",
    "model.load_weights(weights_name)\n",
    "print(\"Loaded model from disk\")\n",
    " \n",
    "cossim = lambda y, p_y: -1*tf.keras.backend.abs(tf.keras.losses.cosine_similarity(y, p_y))\n",
    "model.compile(optimizer= 'SGD', loss=cossim, metrics=[\n",
    "                        tf.keras.metrics.mean_squared_error, \n",
    "                        tf.keras.metrics.mean_absolute_error, \n",
    "                        tf.keras.metrics.mean_absolute_percentage_error])"
   ]
  },
  {
   "cell_type": "code",
   "execution_count": 3,
   "metadata": {},
   "outputs": [],
   "source": [
    "#load the data to do the inference\n",
    "dataset = np.load(data_name)"
   ]
  },
  {
   "cell_type": "code",
   "execution_count": 4,
   "metadata": {},
   "outputs": [],
   "source": [
    "# taking samples from the dataset and evaluating the model\n",
    "images, labels = dataset['x_nodust'][:10], dataset['y'][:10]\n",
    "outputs = model.predict(images)"
   ]
  },
  {
   "cell_type": "code",
   "execution_count": 5,
   "metadata": {},
   "outputs": [
    {
     "name": "stdout",
     "output_type": "stream",
     "text": [
      "[[-0.06275235 -0.28093407]\n",
      " [-0.18754424 -0.51305526]\n",
      " [-0.78201175 -0.22480239]\n",
      " [-0.68395215 -0.15610674]\n",
      " [-0.03342545 -0.6705578 ]\n",
      " [-0.43292797  1.6179798 ]\n",
      " [-0.32559934  0.17729566]\n",
      " [-0.2205084   0.63107574]\n",
      " [-0.25476846  0.11504126]\n",
      " [-0.14613834 -0.15938054]]\n"
     ]
    }
   ],
   "source": [
    "print(outputs)"
   ]
  }
 ],
 "metadata": {
  "kernelspec": {
   "display_name": "Python 3",
   "language": "python",
   "name": "python3"
  },
  "language_info": {
   "codemirror_mode": {
    "name": "ipython",
    "version": 3
   },
   "file_extension": ".py",
   "mimetype": "text/x-python",
   "name": "python",
   "nbconvert_exporter": "python",
   "pygments_lexer": "ipython3",
   "version": "3.8.3"
  }
 },
 "nbformat": 4,
 "nbformat_minor": 4
}
