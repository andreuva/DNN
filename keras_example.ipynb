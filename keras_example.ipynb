{
 "cells": [
  {
   "cell_type": "markdown",
   "metadata": {
    "colab_type": "text",
    "id": "USSV_OlCFKOD"
   },
   "source": [
    "# Training a neural network on MNIST with Keras\n",
    "\n",
    "This simple example demonstrate how to plug TFDS into a Keras model.\n",
    "\n",
    "**Note: This is a modified version for Intel AI Online Labs!**\n"
   ]
  },
  {
   "cell_type": "markdown",
   "metadata": {
    "colab_type": "text",
    "id": "J8y9ZkLXmAZc"
   },
   "source": [
    "Copyright 2020 The TensorFlow Datasets Authors, Licensed under the Apache License, Version 2.0"
   ]
  },
  {
   "cell_type": "markdown",
   "metadata": {
    "colab_type": "text",
    "id": "OGw9EgE0tC0C"
   },
   "source": [
    "<table class=\"tfo-notebook-buttons\" align=\"left\">\n",
    "  <td>\n",
    "    <a target=\"_blank\" href=\"https://www.tensorflow.org/datasets/keras_example\"><img src=\"https://www.tensorflow.org/images/tf_logo_32px.png\" />View on TensorFlow.org</a>\n",
    "  </td>\n",
    "  <td>\n",
    "    <a target=\"_blank\" href=\"https://colab.research.google.com/github/tensorflow/datasets/blob/master/docs/keras_example.ipynb\"><img src=\"https://www.tensorflow.org/images/colab_logo_32px.png\" />Run in Google Colab</a>\n",
    "  </td>\n",
    "  <td>\n",
    "    <a target=\"_blank\" href=\"https://github.com/tensorflow/datasets/blob/master/docs/keras_example.ipynb\"><img src=\"https://www.tensorflow.org/images/GitHub-Mark-32px.png\" />View source on GitHub</a>\n",
    "  </td>\n",
    "</table>"
   ]
  },
  {
   "cell_type": "markdown",
   "metadata": {},
   "source": [
    "## Step 0: Setup environment\n",
    "\n",
    "- Set number of threads to use\n",
    "- Use the Intel related \"tuning knobs\"\n",
    "- Show available devices for computation\n",
    "- Use Tensorflow 2.0 semantic"
   ]
  },
  {
   "cell_type": "code",
   "execution_count": 1,
   "metadata": {},
   "outputs": [
    {
     "name": "stdout",
     "output_type": "stream",
     "text": [
      "[PhysicalDevice(name='/physical_device:CPU:0', device_type='CPU'), PhysicalDevice(name='/physical_device:XLA_CPU:0', device_type='XLA_CPU')]\n"
     ]
    }
   ],
   "source": [
    "import os\n",
    "import tensorflow as tf\n",
    "import tensorflow.compat.v2 as tf\n",
    "import tensorflow_datasets as tfds\n",
    "\n",
    "NUM_PARALLEL_EXEC_UNITS=1\n",
    "tf.config.threading.set_intra_op_parallelism_threads(NUM_PARALLEL_EXEC_UNITS)\n",
    "tf.config.threading.set_inter_op_parallelism_threads(1)\n",
    "tf.config.set_soft_device_placement(True)\n",
    "\n",
    "os.environ[\"OMP_NUM_THREADS\"] = \"{}\".format(NUM_PARALLEL_EXEC_UNITS)\n",
    "os.environ[\"KMP_BLOCKTIME\"] = \"30\"\n",
    "os.environ[\"KMP_SETTINGS\"] = \"1\"\n",
    "os.environ[\"KMP_AFFINITY\"]= \"granularity=fine,verbose,compact,1,0\"\n",
    "\n",
    "physical_devices = tf.config.list_physical_devices()\n",
    "print(physical_devices)\n",
    "\n",
    "tfds.disable_progress_bar()\n",
    "tf.enable_v2_behavior()"
   ]
  },
  {
   "cell_type": "markdown",
   "metadata": {
    "colab_type": "text",
    "id": "VjI6VgOBf0v0"
   },
   "source": [
    "## Step 1: Create your input pipeline\n",
    "\n",
    "Build efficient input pipeline using advices from:\n",
    "* [TFDS performance guide](https://www.tensorflow.org/datasets/performances)\n",
    "* [tf.data performance guide](https://www.tensorflow.org/guide/data_performance#optimize_performance)\n"
   ]
  },
  {
   "cell_type": "markdown",
   "metadata": {
    "colab_type": "text",
    "id": "c3aH3vP_XLI8"
   },
   "source": [
    "### Load MNIST\n",
    "\n",
    "Load with the following arguments:\n",
    "\n",
    "* `shuffle_files`: The MNIST data is only stored in a single file, but for larger datasets with multiple files on disk, it's good practice to shuffle them when training.\n",
    "* `as_supervised`: Returns tuple `(img, label)` instead of dict `{'image': img, 'label': label}`"
   ]
  },
  {
   "cell_type": "code",
   "execution_count": 2,
   "metadata": {
    "colab": {},
    "colab_type": "code",
    "id": "ZUMhCXhFXdHQ"
   },
   "outputs": [
    {
     "name": "stdout",
     "output_type": "stream",
     "text": [
      "\u001b[1mDownloading and preparing dataset mnist/3.0.1 (download: 11.06 MiB, generated: 21.00 MiB, total: 32.06 MiB) to /home/jovyan/tensorflow_datasets/mnist/3.0.1...\u001b[0m\n"
     ]
    },
    {
     "name": "stderr",
     "output_type": "stream",
     "text": [
      "WARNING:absl:Dataset mnist is hosted on GCS. It will automatically be downloaded to your\n",
      "local data directory. If you'd instead prefer to read directly from our public\n",
      "GCS bucket (recommended if you're running on GCP), you can instead pass\n",
      "`try_gcs=True` to `tfds.load` or set `data_dir=gs://tfds-data/datasets`.\n",
      "\n"
     ]
    },
    {
     "name": "stdout",
     "output_type": "stream",
     "text": [
      "\u001b[1mDataset mnist downloaded and prepared to /home/jovyan/tensorflow_datasets/mnist/3.0.1. Subsequent calls will reuse this data.\u001b[0m\n"
     ]
    }
   ],
   "source": [
    "(ds_train, ds_test), ds_info = tfds.load(\n",
    "    'mnist',\n",
    "    split=['train', 'test'],\n",
    "    shuffle_files=True,\n",
    "    as_supervised=True,\n",
    "    with_info=True,\n",
    ")"
   ]
  },
  {
   "cell_type": "markdown",
   "metadata": {
    "colab_type": "text",
    "id": "rgwCFAcWXQTx"
   },
   "source": [
    "### Build training pipeline\n",
    "\n",
    "Apply the following transormations:\n",
    "\n",
    "* `ds.map`: TFDS provide the images as tf.uint8, while the model expect tf.float32, so normalize images\n",
    "* `ds.cache` As the dataset fit in memory, cache before shuffling for better performance.<br/>\n",
    "__Note:__ Random transformations should be applied after caching\n",
    "* `ds.shuffle`: For true randomness, set the shuffle buffer to the full dataset size.<br/>\n",
    "__Note:__ For bigger datasets which do not fit in memory, a standard value is 1000 if your system allows it.\n",
    "* `ds.batch`: Batch after shuffling to get unique batches at each epoch.\n",
    "* `ds.prefetch`: Good practice to end the pipeline by prefetching [for performances](https://www.tensorflow.org/guide/data_performance#prefetching)."
   ]
  },
  {
   "cell_type": "code",
   "execution_count": 3,
   "metadata": {
    "colab": {},
    "colab_type": "code",
    "id": "haykx2K9XgiI"
   },
   "outputs": [],
   "source": [
    "def normalize_img(image, label):\n",
    "  \"\"\"Normalizes images: `uint8` -> `float32`.\"\"\"\n",
    "  return tf.cast(image, tf.float32) / 255., label\n",
    "\n",
    "ds_train = ds_train.map(\n",
    "    normalize_img, num_parallel_calls=tf.data.experimental.AUTOTUNE)\n",
    "ds_train = ds_train.cache()\n",
    "ds_train = ds_train.shuffle(ds_info.splits['train'].num_examples)\n",
    "ds_train = ds_train.batch(128)\n",
    "ds_train = ds_train.prefetch(tf.data.experimental.AUTOTUNE)"
   ]
  },
  {
   "cell_type": "markdown",
   "metadata": {},
   "source": [
    "### Inspect the data set\n",
    "\n",
    "Display individual MNIST samples and their labels.\n",
    "\n",
    "**Note:** Rerun the cell to see different samples. This is due to shuffling of the data in the 'ds_train' dataset every time it is accessed (iterated)."
   ]
  },
  {
   "cell_type": "code",
   "execution_count": 4,
   "metadata": {},
   "outputs": [
    {
     "data": {
      "text/markdown": [
       "#### **Label:** 1"
      ],
      "text/plain": [
       "<IPython.core.display.Markdown object>"
      ]
     },
     "metadata": {},
     "output_type": "display_data"
    },
    {
     "data": {
      "image/png": "[encoded data removed]",
      "text/plain": [
       "<Figure size 360x360 with 1 Axes>"
      ]
     },
     "metadata": {
      "needs_background": "light"
     },
     "output_type": "display_data"
    }
   ],
   "source": [
    "import numpy as np\n",
    "import matplotlib.pyplot as plt\n",
    "from IPython.display import Markdown, display\n",
    "\n",
    "# Show one image in ds_train (Note that rerunning reshuffles!)\n",
    "batch = 40 # Can be any batch\n",
    "idx = 40   # Can be any index within each batch\n",
    "for x, y in ds_train:\n",
    "    if batch == 0:\n",
    "        img = x[idx][:, :,0]\n",
    "        img = np.stack((img,)*3, axis=-1)\n",
    "        fig, ax = plt.subplots(figsize=(5,5))\n",
    "        im = ax.imshow(img, cmap='gray', vmin=0, vmax=255)\n",
    "        display(Markdown(\"#### **Label:** {}\".format(y[idx])))\n",
    "        plt.show()\n",
    "        break\n",
    "    else:\n",
    "        batch -= 1"
   ]
  },
  {
   "cell_type": "markdown",
   "metadata": {
    "colab_type": "text",
    "id": "RbsMy4X1XVFv"
   },
   "source": [
    "### Build evaluation pipeline\n",
    "\n",
    "Testing pipeline is similar to the training pipeline, with small differences:\n",
    "\n",
    " * No `ds.shuffle()` call\n",
    " * Caching is done after batching (as batches can be the same between epoch)"
   ]
  },
  {
   "cell_type": "code",
   "execution_count": 5,
   "metadata": {
    "colab": {},
    "colab_type": "code",
    "id": "A0KjuDf7XiqY"
   },
   "outputs": [],
   "source": [
    "ds_test = ds_test.map(\n",
    "    normalize_img, num_parallel_calls=tf.data.experimental.AUTOTUNE)\n",
    "ds_test = ds_test.batch(128)\n",
    "ds_test = ds_test.cache()\n",
    "ds_test = ds_test.prefetch(tf.data.experimental.AUTOTUNE)"
   ]
  },
  {
   "cell_type": "markdown",
   "metadata": {
    "colab_type": "text",
    "id": "nTFoji3INMEM"
   },
   "source": [
    "## Step 2: Create and train the model\n",
    "\n",
    "### Start Tensorboard\n",
    "We use Tensorboard to minitor the training/validation progress over epochs."
   ]
  },
  {
   "cell_type": "code",
   "execution_count": 6,
   "metadata": {},
   "outputs": [
    {
     "data": {
      "text/html": [
       "\n",
       "      <iframe id=\"tensorboard-frame-466533512da55173\" width=\"100%\" height=\"800\" frameborder=\"0\">\n",
       "      </iframe>\n",
       "      <script>\n",
       "        (function() {\n",
       "          const frame = document.getElementById(\"tensorboard-frame-466533512da55173\");\n",
       "          const url = new URL(\"/\", window.location);\n",
       "          url.port = 6006;\n",
       "          frame.src = url;\n",
       "        })();\n",
       "      </script>\n",
       "  "
      ],
      "text/plain": [
       "<IPython.core.display.HTML object>"
      ]
     },
     "metadata": {},
     "output_type": "display_data"
    }
   ],
   "source": [
    "log_dir = \"logs/\"\n",
    "os.makedirs(log_dir, exist_ok=True)\n",
    "\n",
    "%reload_ext tensorboard\n",
    "%tensorboard --logdir {log_dir} --host 0.0.0.0 --port 6006\n",
    "\n",
    "# Alternative way to display Tensorboard\n",
    "#from tensorboard import notebook\n",
    "#notebook.list() # View open TensorBoard instances\n",
    "#notebook.display(port=6006, height=1000) "
   ]
  },
  {
   "cell_type": "markdown",
   "metadata": {},
   "source": [
    "### Connect input pipeline and train"
   ]
  },
  {
   "cell_type": "code",
   "execution_count": 7,
   "metadata": {
    "colab": {},
    "colab_type": "code",
    "id": "XWqxdmS1NLKA"
   },
   "outputs": [
    {
     "name": "stdout",
     "output_type": "stream",
     "text": [
      "Epoch 1/50\n",
      "469/469 [==============================] - 8s 16ms/step - loss: 0.3639 - accuracy: 0.8992 - val_loss: 0.1907 - val_accuracy: 0.9443\n",
      "Epoch 2/50\n",
      "469/469 [==============================] - 3s 7ms/step - loss: 0.1634 - accuracy: 0.9536 - val_loss: 0.1331 - val_accuracy: 0.9614\n",
      "Epoch 3/50\n",
      "469/469 [==============================] - 4s 8ms/step - loss: 0.1177 - accuracy: 0.9662 - val_loss: 0.1025 - val_accuracy: 0.9695\n",
      "Epoch 4/50\n",
      "469/469 [==============================] - 3s 7ms/step - loss: 0.0910 - accuracy: 0.9737 - val_loss: 0.0903 - val_accuracy: 0.9725\n",
      "Epoch 5/50\n",
      "469/469 [==============================] - 3s 6ms/step - loss: 0.0719 - accuracy: 0.9800 - val_loss: 0.0813 - val_accuracy: 0.9753\n",
      "Epoch 6/50\n",
      "469/469 [==============================] - 3s 7ms/step - loss: 0.0598 - accuracy: 0.9825 - val_loss: 0.0720 - val_accuracy: 0.9774\n",
      "Epoch 7/50\n",
      "469/469 [==============================] - 3s 7ms/step - loss: 0.0510 - accuracy: 0.9852 - val_loss: 0.0709 - val_accuracy: 0.9776\n",
      "Epoch 8/50\n",
      "469/469 [==============================] - 3s 7ms/step - loss: 0.0421 - accuracy: 0.9883 - val_loss: 0.0683 - val_accuracy: 0.9794\n",
      "Epoch 9/50\n",
      "469/469 [==============================] - 4s 8ms/step - loss: 0.0360 - accuracy: 0.9900 - val_loss: 0.0692 - val_accuracy: 0.9779\n",
      "Epoch 10/50\n",
      "469/469 [==============================] - 4s 8ms/step - loss: 0.0303 - accuracy: 0.9918 - val_loss: 0.0679 - val_accuracy: 0.9791\n",
      "Epoch 11/50\n",
      "469/469 [==============================] - 4s 8ms/step - loss: 0.0257 - accuracy: 0.9935 - val_loss: 0.0665 - val_accuracy: 0.9784\n",
      "Epoch 12/50\n",
      "469/469 [==============================] - 4s 9ms/step - loss: 0.0218 - accuracy: 0.9948 - val_loss: 0.0698 - val_accuracy: 0.9772\n",
      "Epoch 13/50\n",
      "469/469 [==============================] - 4s 9ms/step - loss: 0.0197 - accuracy: 0.9948 - val_loss: 0.0683 - val_accuracy: 0.9791\n",
      "Epoch 14/50\n",
      "469/469 [==============================] - 4s 8ms/step - loss: 0.0161 - accuracy: 0.9964 - val_loss: 0.0658 - val_accuracy: 0.9799\n",
      "Epoch 15/50\n",
      "469/469 [==============================] - 4s 8ms/step - loss: 0.0139 - accuracy: 0.9970 - val_loss: 0.0671 - val_accuracy: 0.9809\n",
      "Epoch 16/50\n",
      "469/469 [==============================] - 4s 7ms/step - loss: 0.0120 - accuracy: 0.9973 - val_loss: 0.0688 - val_accuracy: 0.9796\n",
      "Epoch 17/50\n",
      "469/469 [==============================] - 3s 7ms/step - loss: 0.0103 - accuracy: 0.9979 - val_loss: 0.0670 - val_accuracy: 0.9800\n",
      "Epoch 18/50\n",
      "469/469 [==============================] - 3s 7ms/step - loss: 0.0086 - accuracy: 0.9985 - val_loss: 0.0695 - val_accuracy: 0.9802\n",
      "Epoch 19/50\n",
      "469/469 [==============================] - 3s 7ms/step - loss: 0.0075 - accuracy: 0.9987 - val_loss: 0.0744 - val_accuracy: 0.9790\n",
      "Epoch 20/50\n",
      "469/469 [==============================] - 4s 8ms/step - loss: 0.0063 - accuracy: 0.9990 - val_loss: 0.0800 - val_accuracy: 0.9775\n",
      "Epoch 21/50\n",
      "469/469 [==============================] - 3s 7ms/step - loss: 0.0072 - accuracy: 0.9986 - val_loss: 0.0733 - val_accuracy: 0.9784\n",
      "Epoch 22/50\n",
      "469/469 [==============================] - 4s 8ms/step - loss: 0.0046 - accuracy: 0.9994 - val_loss: 0.0743 - val_accuracy: 0.9801\n",
      "Epoch 23/50\n",
      "469/469 [==============================] - 4s 8ms/step - loss: 0.0060 - accuracy: 0.9987 - val_loss: 0.0904 - val_accuracy: 0.9752\n",
      "Epoch 24/50\n",
      "469/469 [==============================] - 4s 8ms/step - loss: 0.0038 - accuracy: 0.9994 - val_loss: 0.0843 - val_accuracy: 0.9789\n",
      "Epoch 25/50\n",
      "469/469 [==============================] - 4s 8ms/step - loss: 0.0027 - accuracy: 0.9997 - val_loss: 0.0727 - val_accuracy: 0.9807\n",
      "Epoch 26/50\n",
      "469/469 [==============================] - 4s 8ms/step - loss: 0.0026 - accuracy: 0.9997 - val_loss: 0.0765 - val_accuracy: 0.9795\n",
      "Epoch 27/50\n",
      "469/469 [==============================] - 4s 8ms/step - loss: 0.0021 - accuracy: 0.9999 - val_loss: 0.0779 - val_accuracy: 0.9797\n",
      "Epoch 28/50\n",
      "469/469 [==============================] - 3s 7ms/step - loss: 0.0080 - accuracy: 0.9976 - val_loss: 0.0838 - val_accuracy: 0.9810\n",
      "Epoch 29/50\n",
      "469/469 [==============================] - 4s 7ms/step - loss: 0.0040 - accuracy: 0.9991 - val_loss: 0.0882 - val_accuracy: 0.9783\n",
      "Epoch 30/50\n",
      "469/469 [==============================] - 4s 8ms/step - loss: 0.0019 - accuracy: 0.9998 - val_loss: 0.0860 - val_accuracy: 0.9794\n",
      "Epoch 31/50\n",
      "469/469 [==============================] - 4s 8ms/step - loss: 0.0010 - accuracy: 0.9999 - val_loss: 0.0811 - val_accuracy: 0.9810\n",
      "Epoch 32/50\n",
      "469/469 [==============================] - 3s 7ms/step - loss: 6.9317e-04 - accuracy: 1.0000 - val_loss: 0.0820 - val_accuracy: 0.9817\n",
      "Epoch 33/50\n",
      "469/469 [==============================] - 4s 8ms/step - loss: 0.0010 - accuracy: 0.9999 - val_loss: 0.0873 - val_accuracy: 0.9804\n",
      "Epoch 34/50\n",
      "469/469 [==============================] - 4s 8ms/step - loss: 0.0064 - accuracy: 0.9982 - val_loss: 0.1161 - val_accuracy: 0.9742\n",
      "Epoch 35/50\n",
      "469/469 [==============================] - 4s 8ms/step - loss: 0.0061 - accuracy: 0.9980 - val_loss: 0.0892 - val_accuracy: 0.9797\n",
      "Epoch 36/50\n",
      "469/469 [==============================] - 4s 9ms/step - loss: 0.0010 - accuracy: 0.9999 - val_loss: 0.0845 - val_accuracy: 0.9809\n",
      "Epoch 37/50\n",
      "469/469 [==============================] - 4s 8ms/step - loss: 4.8668e-04 - accuracy: 1.0000 - val_loss: 0.0837 - val_accuracy: 0.9822\n",
      "Epoch 38/50\n",
      "469/469 [==============================] - 4s 8ms/step - loss: 3.6319e-04 - accuracy: 1.0000 - val_loss: 0.0854 - val_accuracy: 0.9818\n",
      "Epoch 39/50\n",
      "469/469 [==============================] - 4s 8ms/step - loss: 3.2987e-04 - accuracy: 1.0000 - val_loss: 0.0865 - val_accuracy: 0.9810\n",
      "Epoch 40/50\n",
      "469/469 [==============================] - 4s 8ms/step - loss: 2.8616e-04 - accuracy: 1.0000 - val_loss: 0.0861 - val_accuracy: 0.9816\n",
      "Epoch 41/50\n",
      "469/469 [==============================] - 4s 8ms/step - loss: 2.5464e-04 - accuracy: 1.0000 - val_loss: 0.0886 - val_accuracy: 0.9809\n",
      "Epoch 42/50\n",
      "469/469 [==============================] - 4s 8ms/step - loss: 2.3655e-04 - accuracy: 1.0000 - val_loss: 0.0895 - val_accuracy: 0.9810\n",
      "Epoch 43/50\n",
      "469/469 [==============================] - 4s 8ms/step - loss: 0.0095 - accuracy: 0.9973 - val_loss: 0.1158 - val_accuracy: 0.9748\n",
      "Epoch 44/50\n",
      "469/469 [==============================] - 4s 8ms/step - loss: 0.0058 - accuracy: 0.9980 - val_loss: 0.0924 - val_accuracy: 0.9799\n",
      "Epoch 45/50\n",
      "469/469 [==============================] - 4s 9ms/step - loss: 8.5154e-04 - accuracy: 0.9999 - val_loss: 0.0913 - val_accuracy: 0.9802\n",
      "Epoch 46/50\n",
      "469/469 [==============================] - 5s 10ms/step - loss: 3.0224e-04 - accuracy: 1.0000 - val_loss: 0.0901 - val_accuracy: 0.9805\n",
      "Epoch 47/50\n",
      "469/469 [==============================] - 4s 8ms/step - loss: 2.3227e-04 - accuracy: 1.0000 - val_loss: 0.0911 - val_accuracy: 0.9810\n",
      "Epoch 48/50\n",
      "469/469 [==============================] - 4s 8ms/step - loss: 2.0054e-04 - accuracy: 1.0000 - val_loss: 0.0910 - val_accuracy: 0.9807\n",
      "Epoch 49/50\n",
      "469/469 [==============================] - 4s 8ms/step - loss: 1.7932e-04 - accuracy: 1.0000 - val_loss: 0.0920 - val_accuracy: 0.9805\n",
      "Epoch 50/50\n",
      "469/469 [==============================] - 4s 8ms/step - loss: 1.5953e-04 - accuracy: 1.0000 - val_loss: 0.0912 - val_accuracy: 0.9810\n",
      "Runtime: 205.45953464508057\n"
     ]
    }
   ],
   "source": [
    "import os\n",
    "import time\n",
    "import datetime\n",
    "\n",
    "model = tf.keras.models.Sequential([\n",
    "  tf.keras.layers.Flatten(input_shape=(28, 28, 1)),\n",
    "  tf.keras.layers.Dense(128,activation='relu'),\n",
    "  tf.keras.layers.Dense(10, activation='softmax')\n",
    "])\n",
    "model.compile(\n",
    "    loss='sparse_categorical_crossentropy',\n",
    "    optimizer=tf.keras.optimizers.Adam(0.001),\n",
    "    metrics=['accuracy'],\n",
    ")\n",
    "\n",
    "log_dir_s = log_dir + datetime.datetime.now().strftime(\"%Y%m%d-%H%M%S\")\n",
    "os.makedirs(log_dir_s, exist_ok=True)\n",
    "tensorboard_callback = tf.keras.callbacks.TensorBoard(log_dir=log_dir_s, histogram_freq=1)\n",
    "\n",
    "time_s = time.time()\n",
    "model.fit(\n",
    "    ds_train,\n",
    "    epochs=50,\n",
    "    validation_data=ds_test,\n",
    "    callbacks=[tensorboard_callback]\n",
    ")\n",
    "print(\"Runtime: {}\".format(time.time() - time_s))"
   ]
  },
  {
   "cell_type": "markdown",
   "metadata": {},
   "source": [
    "### Evaluate with confusion matrix\n",
    "\n",
    "Here we print the confusion matrix over all predictions from the validation data set."
   ]
  },
  {
   "cell_type": "code",
   "execution_count": 8,
   "metadata": {},
   "outputs": [
    {
     "name": "stdout",
     "output_type": "stream",
     "text": [
      "WARNING:tensorflow:From <ipython-input-8-a6decfc0ee16>:43: Sequential.predict_classes (from tensorflow.python.keras.engine.sequential) is deprecated and will be removed after 2021-01-01.\n",
      "Instructions for updating:\n",
      "Please use instead:* `np.argmax(model.predict(x), axis=-1)`,   if your model does multi-class classification   (e.g. if it uses a `softmax` last-layer activation).* `(model.predict(x) > 0.5).astype(\"int32\")`,   if your model does binary classification   (e.g. if it uses a `sigmoid` last-layer activation).\n"
     ]
    },
    {
     "name": "stderr",
     "output_type": "stream",
     "text": [
      "WARNING:tensorflow:From <ipython-input-8-a6decfc0ee16>:43: Sequential.predict_classes (from tensorflow.python.keras.engine.sequential) is deprecated and will be removed after 2021-01-01.\n",
      "Instructions for updating:\n",
      "Please use instead:* `np.argmax(model.predict(x), axis=-1)`,   if your model does multi-class classification   (e.g. if it uses a `softmax` last-layer activation).* `(model.predict(x) > 0.5).astype(\"int32\")`,   if your model does binary classification   (e.g. if it uses a `sigmoid` last-layer activation).\n"
     ]
    },
    {
     "name": "stdout",
     "output_type": "stream",
     "text": [
      "Confusion matrix, without normalization\n"
     ]
    },
    {
     "data": {
      "image/png": "[encoded data removed]",
      "text/plain": [
       "<Figure size 432x288 with 2 Axes>"
      ]
     },
     "metadata": {
      "needs_background": "light"
     },
     "output_type": "display_data"
    }
   ],
   "source": [
    "#Print confusion matrix\n",
    "from sklearn.metrics import confusion_matrix\n",
    "\n",
    "def plot_confusion_matrix(cm, classes,\n",
    "    normalize=False,\n",
    "    title='Confusion matrix'):\n",
    "    import itertools\n",
    "    import matplotlib.pyplot as plt\n",
    "    \"\"\"\n",
    "    This function prints and plots the confusion matrix.\n",
    "    Normalization can be applied by setting `normalize=True`.\n",
    "    \"\"\"\n",
    "    cmap=plt.cm.Blues\n",
    "    plt.imshow(cm, interpolation='nearest', cmap=cmap)\n",
    "    plt.title(title)\n",
    "    plt.colorbar()\n",
    "    tick_marks = np.arange(len(classes))\n",
    "    plt.xticks(tick_marks, classes, rotation=45)\n",
    "    plt.yticks(tick_marks, classes)\n",
    "\n",
    "    if normalize:\n",
    "        cm = cm.astype('float') / cm.sum(axis=1)[:, np.newaxis]\n",
    "        print(\"Normalized confusion matrix\")\n",
    "    else:\n",
    "        print('Confusion matrix, without normalization')\n",
    "\n",
    "    #print(cm)\n",
    "\n",
    "    thresh = cm.max() / 2.\n",
    "    for i, j in itertools.product(range(cm.shape[0]), range(cm.shape[1])):\n",
    "        plt.text(j, i, cm[i, j],\n",
    "                 horizontalalignment=\"center\",\n",
    "                 color=\"white\" if cm[i, j] > thresh else \"black\")\n",
    "\n",
    "    plt.tight_layout()\n",
    "    plt.ylabel('True label')\n",
    "    plt.xlabel('Predicted label')\n",
    "\n",
    "y_true = np.empty((0,), dtype=int, order='C')\n",
    "for test_x, test_y in ds_test:\n",
    "    y_true = np.concatenate((y_true, test_y.numpy()))\n",
    "    \n",
    "y_pred = ynew = model.predict_classes(ds_test, batch_size=None)\n",
    "cm = confusion_matrix(y_true, y_pred)\n",
    "cm_plot_labels = ['0', '1', '2', '3', '4', '5', '6', '7', '8', '9']\n",
    "plot_confusion_matrix(cm=cm, classes=cm_plot_labels, title='Confusion Matrix')"
   ]
  },
  {
   "cell_type": "markdown",
   "metadata": {},
   "source": [
    "Show some samples that failed in validation."
   ]
  },
  {
   "cell_type": "code",
   "execution_count": 9,
   "metadata": {},
   "outputs": [
    {
     "data": {
      "image/png": "[encoded data removed]",
      "text/plain": [
       "<Figure size 720x720 with 16 Axes>"
      ]
     },
     "metadata": {
      "needs_background": "light"
     },
     "output_type": "display_data"
    }
   ],
   "source": [
    "cur_image = 0\n",
    "num_images = 16\n",
    "fig = plt.figure(figsize=(10,10))\n",
    "\n",
    "for (test_val, pred_y) in zip(ds_test.unbatch(), y_pred):\n",
    "    if  test_val[1].numpy() != pred_y: # Only where prediction and ground truth are different!\n",
    "        cur_image += 1\n",
    "        img = test_val[0][:, :,0]\n",
    "        img = np.stack((img,)*3, axis=-1)\n",
    "        ax = fig.add_subplot(4, 4 ,cur_image)\n",
    "        im = ax.imshow(img, cmap='gray', vmin=0, vmax=255)\n",
    "        ax.set_title(\"Label: {}, pred.: {}\".format(test_val[1].numpy(), pred_y))\n",
    "\n",
    "\n",
    "        if num_images == cur_image:\n",
    "            break\n",
    "plt.tight_layout()\n",
    "plt.show()"
   ]
  },
  {
   "cell_type": "code",
   "execution_count": null,
   "metadata": {},
   "outputs": [],
   "source": []
  },
  {
   "cell_type": "code",
   "execution_count": null,
   "metadata": {},
   "outputs": [],
   "source": []
  }
 ],
 "metadata": {
  "colab": {
   "collapsed_sections": [],
   "last_runtime": {
    "build_target": "//learning/deepmind/dm_python:dm_notebook3",
    "kind": "private"
   },
   "name": "tensorflow/datasets",
   "private_outputs": true,
   "provenance": []
  },
  "kernelspec": {
   "display_name": "Python 3",
   "language": "python",
   "name": "python3"
  },
  "language_info": {
   "codemirror_mode": {
    "name": "ipython",
    "version": 3
   },
   "file_extension": ".py",
   "mimetype": "text/x-python",
   "name": "python",
   "nbconvert_exporter": "python",
   "pygments_lexer": "ipython3",
   "version": "3.8.3"
  }
 },
 "nbformat": 4,
 "nbformat_minor": 4
}
